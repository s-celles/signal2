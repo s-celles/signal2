{
 "cells": [
  {
   "cell_type": "markdown",
   "metadata": {},
   "source": [
    "(C:tp-filtres)=\n",
    "# TP : filtrage"
   ]
  },
  {
   "cell_type": "markdown",
   "metadata": {},
   "source": [
    "Un électrocardiogramme (ECG) est le tracé de l'activité électrique du cœur.\n",
    "Il comporte plusieurs signaux caractéristiques appelés « ondes »,\n",
    "qui dans le cas d'un ECG normal peuvent être schématisées ainsi :\n",
    "\n",
    "```{figure} figs/ecg.svg\n",
    "---\n",
    "height: 200px\n",
    "name: F:tp-filtres:ecg\n",
    "---\n",
    "```\n",
    "\n",
    "Il est fréquent qu'en plus de ces ondes, le signal présente également une variation basse fréquence du signal.\n",
    "Cette variation est principalement due aux mouvements du patient, mais elle perturbe l'analyse du médecin.\n",
    "L'objectif de ce TP, qui se déroule sur deux séances, est de réaliser deux filtres pour supprimer cette variation basse fréquence."
   ]
  },
  {
   "cell_type": "markdown",
   "metadata": {},
   "source": [
    "## Affichage de l'ECG mesuré\n",
    "\n",
    "Un ECG contenant dix ondes et une variation basse fréquence a été enregistré à une fréquence de 1 kHz et sauvegardé dans le fichier\n",
    "<a href=\"_static/files/ecg_lfn.csv\">ecg_lfn.csv</a>.\n",
    "\n",
    "* Utilisez `numpy.loadtxt` pour charger le signal.\n",
    "\n",
    "Le signal étant trop grand, il est préférable de le sous-échantillonner pour que les traitements soient plus rapides.\n",
    "\n",
    "* À quoi faut-il faire attention avant de le sous-échantillonner ?\n",
    "\n",
    "* Sous-échantillonnez le signal à 100 Hz, puis affichez le signal obtenu.\n",
    "\n",
    "* Tracez le spectre du signal."
   ]
  },
  {
   "cell_type": "markdown",
   "metadata": {},
   "source": [
    "## Définition du gabarit\n",
    "\n",
    "* Quel type de filtre (passe-bas, passe-haut, passe-bande ou coupe-bande) faut-il choisir pour supprimer la variation ?\n",
    "  Donnez une valeur approximative de la (ou les) fréquence(s) de coupure.\n",
    "\n",
    "* Proposez un gabarit pour le filtre en précisant les valeurs numériques des fréquences.\n",
    "  L'ondulation dans la bande passante devra être comprise entre $-1$ dB et $+1$ dB\n",
    "  et l'atténuation devra être supérieure à 60 dB.\n",
    "  Si la largeur de la (ou des) bande(s) de transition est trop faible, cela peut conduire à des erreurs numériques :\n",
    "  seule la synthèse lors des questions suivantes vous permettra de corriger cette valeur.\n",
    "  \n",
    "* Représentez ce gabarit avec Python.\n",
    "  Pour représenter une ligne brisée, vous pouvez vous inspirer de l'exemple suivant :"
   ]
  },
  {
   "cell_type": "code",
   "execution_count": 1,
   "metadata": {
    "tags": [
     "remove-cell"
    ]
   },
   "outputs": [],
   "source": [
    "import matplotlib.pyplot as plt\n",
    "import numpy as np"
   ]
  },
  {
   "cell_type": "code",
   "execution_count": 2,
   "metadata": {},
   "outputs": [
    {
     "data": {
      "image/png": "[encoded data removed]",
      "text/plain": [
       "<Figure size 360x216 with 1 Axes>"
      ]
     },
     "metadata": {
      "needs_background": "light"
     },
     "output_type": "display_data"
    }
   ],
   "source": [
    "# Abscisses des 4 points de la ligne brisée\n",
    "x = [0, 10, 10, 20]\n",
    "\n",
    "# Ordonnées des 4 points de la ligne brisée\n",
    "y = [0, 0, -4, -4]\n",
    "\n",
    "# Affichage\n",
    "plt.figure(figsize=(5,3))\n",
    "plt.plot(x, y, color='k', linestyle='--', marker='*')\n",
    "plt.show()"
   ]
  },
  {
   "cell_type": "markdown",
   "metadata": {},
   "source": [
    "## Réalisation d'un filtre RIF\n",
    "\n",
    "Le premier filtre appliqué sur l'ECG sera un filtre RIF synthétisé avec la méthode des fenêtres.\n",
    "\n",
    "* Donnez, en le justifiant, les fenêtres pouvant être utilisés pour la synthèse du filtre numérique.\n",
    "\n",
    "* Calculez la longueur des fenêtres qui conviennent.\n",
    "  On choisit de ne travailler qu'avec la fenêtre permettant d'avoir l'ordre du filtre le plus faible.\n",
    "  \n",
    "* Synthétisez le filtre RIF avec `scipy.signal.firwin`.\n",
    "\n",
    "* Vérifiez que le filtre obtenu correspond bien au gabarit numérique en traçant sa réponse en fréquence sur le gabarit\n",
    "  (`scipy.signal.freqz`).\n",
    "  \n",
    "* En analysant le retard de groupe du filtre (`signal.group_delay`),\n",
    "  indiquez quel est son effet sur le déphasage des fréquences.\n",
    "  \n",
    "* Affichez le diagramme pôle-zéro (`scipy.signal.tf2zpk`) : que pouvez-vous en conclure ?\n",
    "\n",
    "* Appliquez ce filtre sur l'ECG (`scipy.signal.lfilter`) pour observer le résultat."
   ]
  },
  {
   "cell_type": "markdown",
   "metadata": {},
   "source": [
    "## Réalisation d'un filtre RII\n",
    "\n",
    "On rappelle qu'avec la transformation bilinéaire, un filtre RII est conçu à partir d'un filtre analogique\n",
    "obtenu à l'aide d'un gabarit analogique, lui-même construit à partir du gabarit numérique.\n",
    "\n",
    "* Déterminez le gabarit du filtre analogique.\n",
    "\n",
    "* Rappelez l'expression de la transformation bilinéaire permettant d'obtenir $H(z)$ à partir de $H(s)$.\n",
    "\n",
    "* Synthétisez le filtre numérique avec la fonction `scipy.signal.iirdesign`.\n",
    "\n",
    "* Vérifiez que le filtre obtenu correspond bien au gabarit numérique en traçant sa réponse fréquentielle sur le gabarit.\n",
    "\n",
    "* De même que pour un filtre RIF, analysez le retard de groupe du filtre puis le diagramme pôle-zéro.\n",
    "\n",
    "* Appliquez ce filtre sur l'ECG (`scipy.signal.lfilter`) pour observer le résultat."
   ]
  },
  {
   "cell_type": "markdown",
   "metadata": {},
   "source": [
    "## Comparaison des filtres synthétisés\n",
    "\n",
    "* Discutez du résultat obtenu avec les deux méthodes de filtrage, à la fois en temporel et en fréquentiel.\n",
    "\n",
    "* Comparez les deux filtres synthétisés, notamment sur :\n",
    "  - leur performance vis-à-vis du gabarit souhaité,\n",
    "  - leur phase et retard de groupe,\n",
    "  - leur stabilité,\n",
    "  - leur encombrement mémoire,\n",
    "  - leur robustesse par rapport à la précision de leur coefficients,\n",
    "  - etc."
   ]
  }
 ],
 "metadata": {
  "kernelspec": {
   "display_name": "Python 3 (ipykernel)",
   "language": "python",
   "name": "python3"
  },
  "language_info": {
   "codemirror_mode": {
    "name": "ipython",
    "version": 3
   },
   "file_extension": ".py",
   "mimetype": "text/x-python",
   "name": "python",
   "nbconvert_exporter": "python",
   "pygments_lexer": "ipython3",
   "version": "3.9.7"
  }
 },
 "nbformat": 4,
 "nbformat_minor": 4
}
