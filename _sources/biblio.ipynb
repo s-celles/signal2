{
 "cells": [
  {
   "cell_type": "markdown",
   "metadata": {},
   "source": [
    "(C:biblio)=\n",
    "# Références"
   ]
  },
  {
   "cell_type": "markdown",
   "metadata": {},
   "source": [
    "## Bibliographie\n",
    "\n",
    "* [Hsu 1995]\n",
    "  H.P. Hsu.\n",
    "  _Signals and Systems_.\n",
    "  Schaum’s Outline.\n",
    "  McGraw Hill, 1995.\n",
    "  Cote : 006.4 HSU.\n",
    "\n",
    "* [Oppenheim 1989]\n",
    "  A.V. Oppenheim, R.W. Schafer et J.R. Buck.\n",
    "  _Discrete-Time Signal Processing_.\n",
    "  Prentice Hall, 2e édition, 1989.\n",
    "  Cote : 621.382 2 OPP.\n",
    "\n",
    "* [Oppenheim 1996]\n",
    "  A.V. Oppenheim, A.S. Willsky et S. Hamid Nawab.\n",
    "  _Signals & Systems_.\n",
    "  Prentice Hall, 1996.\n",
    "  Cote : 621.382 2 OPP.\n",
    "\n",
    "* [Prandoni 2008]\n",
    "  P. Prandoni, M. Vetterli.\n",
    "  _Signal Processing for Communications_.\n",
    "  EPFL Press, 2008.\n",
    "  Cote : 621.382 2 PRA.\n",
    "  [Téléchargeable librement](https://www.sp4comm.org/download.html).\n",
    "\n",
    "* [Wikipedia]\n",
    "  Wikipedia : commencez par l'article [Traitement du signal](https://fr.wikipedia.org/wiki/Traitement_du_signal) puis continuez à explorer !\n",
    "  N'hésitez pas également à lire la [version en anglais](https://en.wikipedia.org/wiki/Signal_processing), souvent plus complète."
   ]
  },
  {
   "cell_type": "markdown",
   "metadata": {},
   "source": [
    "## Culture générale\n",
    "\n",
    "* I. Bellin. [Histoire du traitement d'images](https://interstices.info/histoire-du-traitement-dimages/). Interstices, 2004.\n",
    "\n",
    "* [Traitement du signal](http://culturesciencesphysique.ens-lyon.fr/dossiersthematiques/traitement-du-signal/). Culture Sciences physique, ENS Lyon.\n",
    "\n",
    "* Doc Sciences : entre les hommes et les machines, automatique et traitement du signal, n<sup>o</sup> 15, 2013. Disponible en demandant gentiment à votre professeur préféré.\n",
    "\n",
    "* [Gretsi](http://www.gretsi.fr/). Groupe de recherche en traitement du signal et des images.\n",
    "\n",
    "* [Signal Processing Society](https://signalprocessingsociety.org/). Société savante, éditrice notamment de la revue Signal Processing Magazine."
   ]
  }
 ],
 "metadata": {
  "kernelspec": {
   "display_name": "Python 3",
   "language": "python",
   "name": "python3"
  },
  "language_info": {
   "codemirror_mode": {
    "name": "ipython",
    "version": 3
   },
   "file_extension": ".py",
   "mimetype": "text/x-python",
   "name": "python",
   "nbconvert_exporter": "python",
   "pygments_lexer": "ipython3",
   "version": "3.7.3"
  }
 },
 "nbformat": 4,
 "nbformat_minor": 4
}
