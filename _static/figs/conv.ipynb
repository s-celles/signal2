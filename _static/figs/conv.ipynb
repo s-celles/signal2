{
 "cells": [
  {
   "cell_type": "markdown",
   "metadata": {},
   "source": [
    "# Signaux de convolution"
   ]
  },
  {
   "cell_type": "code",
   "execution_count": 1,
   "metadata": {},
   "outputs": [],
   "source": [
    "import matplotlib.pyplot as plt\n",
    "import numpy as np"
   ]
  },
  {
   "cell_type": "code",
   "execution_count": 2,
   "metadata": {},
   "outputs": [],
   "source": [
    "data = []\n",
    "\n",
    "name = \"dirac\"\n",
    "x = [-4, 0, 0, 0, 4]\n",
    "y = [0, 0, 2, 0, 0]\n",
    "data.append({ \"name\": name, \"x\":x, \"y\":y})\n",
    "\n",
    "name = \"diracs\"\n",
    "x = [-4, -2, -2, -2, 2, 2, 2, 4]\n",
    "y = [0, 0, 2, 0, 0, 2, 0, 0]\n",
    "data.append({ \"name\": name, \"x\":x, \"y\":y})\n",
    "\n",
    "name = \"narrow-door\"\n",
    "x = [-4, -.5, -.5, .5, .5, 4]\n",
    "y = [0, 0, 1, 1, 0, 0]\n",
    "data.append({ \"name\": name, \"x\":x, \"y\":y})\n",
    "\n",
    "name = \"large-door\"\n",
    "x = [-4, -2, -2, 2, 2, 4]\n",
    "y = [0, 0, 1, 1, 0, 0]\n",
    "data.append({ \"name\": name, \"x\":x, \"y\":y})\n",
    "\n",
    "name = \"triangle\"\n",
    "x = [-4, -2, 0, 2, 4]\n",
    "y = [0, 0, 2, 0, 0]\n",
    "data.append({ \"name\": name, \"x\":x, \"y\":y})\n",
    "\n",
    "name = \"gaussian\"\n",
    "x = np.arange(-4, 4, 0.1)\n",
    "y = 2 * np.exp(-x*x/0.5)\n",
    "data.append({ \"name\": name, \"x\":x, \"y\":y})\n",
    "\n",
    "name = \"empty\"\n",
    "x = []\n",
    "y = []\n",
    "data.append({ \"name\": name, \"x\":x, \"y\":y})"
   ]
  },
  {
   "cell_type": "code",
   "execution_count": 3,
   "metadata": {},
   "outputs": [
    {
     "data": {
      "image/png": "[encoded data removed]",
      "text/plain": [
       "<Figure size 141.732x56.6929 with 1 Axes>"
      ]
     },
     "metadata": {},
     "output_type": "display_data"
    },
    {
     "data": {
      "image/png": "[encoded data removed]",
      "text/plain": [
       "<Figure size 141.732x56.6929 with 1 Axes>"
      ]
     },
     "metadata": {},
     "output_type": "display_data"
    },
    {
     "data": {
      "image/png": "[encoded data removed]",
      "text/plain": [
       "<Figure size 141.732x56.6929 with 1 Axes>"
      ]
     },
     "metadata": {},
     "output_type": "display_data"
    },
    {
     "data": {
      "image/png": "[encoded data removed]",
      "text/plain": [
       "<Figure size 141.732x56.6929 with 1 Axes>"
      ]
     },
     "metadata": {},
     "output_type": "display_data"
    },
    {
     "data": {
      "image/png": "[encoded data removed]",
      "text/plain": [
       "<Figure size 141.732x56.6929 with 1 Axes>"
      ]
     },
     "metadata": {},
     "output_type": "display_data"
    },
    {
     "data": {
      "image/png": "[encoded data removed]",
      "text/plain": [
       "<Figure size 141.732x56.6929 with 1 Axes>"
      ]
     },
     "metadata": {},
     "output_type": "display_data"
    },
    {
     "data": {
      "image/png": "[encoded data removed]",
      "text/plain": [
       "<Figure size 141.732x56.6929 with 1 Axes>"
      ]
     },
     "metadata": {},
     "output_type": "display_data"
    }
   ],
   "source": [
    "plt.style.use('seaborn-whitegrid')\n",
    "plt.rc('text', usetex=True)\n",
    "plt.rc('font', family='serif')\n",
    "\n",
    "for d in data:\n",
    "\n",
    "    fig = plt.figure(figsize=(5/2.54, 2/2.54))\n",
    "\n",
    "    ax = fig.add_subplot(111)\n",
    "    ax.set_xlim([-4, 4])\n",
    "    ax.set_ylim([-.5, 3])\n",
    "\n",
    "    ax.spines['bottom'].set_color('k')\n",
    "    ax.spines['top'].set_color('k') \n",
    "    ax.spines['right'].set_color('k')\n",
    "    ax.spines['left'].set_color('k')\n",
    "\n",
    "    ax.spines['bottom'].set_linewidth(0.5)\n",
    "    ax.spines['top'].set_linewidth(0.5)\n",
    "    ax.spines['right'].set_linewidth(0.5)\n",
    "    ax.spines['left'].set_linewidth(0.5)\n",
    "\n",
    "    plt.xticks(np.arange(-3, 4, 1))\n",
    "    plt.yticks(np.arange(0, 3, 1))\n",
    "    plt.xticks(fontsize=8)\n",
    "    plt.yticks(fontsize=8)\n",
    "\n",
    "    #ax.grid(True)\n",
    "    #ax.grid(linewidth=0.5)\n",
    "    #ax.set_xticklabels([])\n",
    "    #ax.set_yticklabels([])\n",
    "\n",
    "    #plt.plot(0, 0, 'k+', markeredgewidth=0.5)\n",
    "    #plt.text(0, -0.12, '0', fontsize=10, horizontalalignment='center', verticalalignment='top')\n",
    "\n",
    "    plt.plot(d[\"x\"], d[\"y\"], 'k', linewidth=0.8)\n",
    "\n",
    "    fig.savefig(\"conv-\" + d[\"name\"]+\".pdf\", bbox_inches='tight')"
   ]
  },
  {
   "cell_type": "code",
   "execution_count": null,
   "metadata": {},
   "outputs": [],
   "source": []
  }
 ],
 "metadata": {
  "kernelspec": {
   "display_name": "Python 3",
   "language": "python",
   "name": "python3"
  },
  "language_info": {
   "codemirror_mode": {
    "name": "ipython",
    "version": 3
   },
   "file_extension": ".py",
   "mimetype": "text/x-python",
   "name": "python",
   "nbconvert_exporter": "python",
   "pygments_lexer": "ipython3",
   "version": "3.7.3"
  }
 },
 "nbformat": 4,
 "nbformat_minor": 4
}
