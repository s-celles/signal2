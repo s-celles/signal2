{
 "cells": [
  {
   "cell_type": "markdown",
   "metadata": {},
   "source": [
    "(C:td-ssp)=\n",
    "# TD Traitement statistique du signal\n",
    "\n",
    "<!-- [Énoncé 2019-2020](https://vincmazet.github.io/signal2/_static/files/ssp-td.pdf) -->"
   ]
  },
  {
   "cell_type": "markdown",
   "metadata": {},
   "source": [
    "**Exercice 1**\n",
    "\n",
    "Calculez l'espérance et l'écart-type d'une variable aléatoire distribuée suivant une loi uniforme $\\mathcal{U}[0,\\ 1]$.\n",
    "\n",
    "**Exercice 2**\n",
    "\n",
    "Calculez une estimation de l'espérance et de l'écart-type de la série de $N=10$ échantillons ci-dessous :\n",
    "\n",
    "$$\n",
    "  x = [ 0,81,\\ 0,90,\\ 0,12,\\ 0,91,\\ 0,63,\\ 0,09,\\ 0,27,\\ 0,54,\\ 0,95,\\ 0,96 ].\n",
    "$$\n",
    "\n",
    "**Exercice 3**\n",
    "\n",
    "Un signal $x$ est bruité par un bruit blanc gaussien additif.\n",
    "* Quel est le lien entre la puissance du bruit et son écart-type ?\n",
    "* Exprimez l'écart-type du bruit en fonction du RSB et des échantillons du signal $x$.\n",
    "\n",
    "<!-- **Exercice 4**\n",
    "\n",
    "On rappelle que le filtre adapté correspond à l'intercorrélation $R_{yx}$\n",
    "entre un signal observé $y$ et le motif recherché $x$.\n",
    "\\begin{questions}\n",
    "  \\item Donnez la définition de l'intercorrélation $R_{yx}$.\n",
    "  \\item En effectuant un changement de variable dans cette dernière expression,\n",
    "  montrez que l'intercorrélation $R_{yx}$ s'écrit comme la convolution de $y$ avec un signal $h$ à déterminer.\n",
    "\\end{questions}\n",
    "Cette dernière question montre que le filtre adapté s'exprime également comme une convolution~:\n",
    "c'est donc bien un filtre dont la réponse impulsionnelle est $h$.\n",
    " -->\n",
    "\n",
    "<!-- \\exo{}\n",
    "\n",
    "Montrez que la définition du filtre moyenneur peut s'écrire comme une convolution entre le signal observé $y$\n",
    "et une porte $h$.\n",
    " -->\n",
    "\n",
    "<!-- % \\exo{}\n",
    "Si le temps le permet, faire un exo pour démontrer que le RSB augmente par moyennage de plusieurs signaux.\n",
    "Faire au préalable un exo \"théorique\" sur la linéarité de l'espérance, la valeur de l'espérance jointe de deux VA indépendantes \n",
    "(je ne le fais pas en cours)... \n",
    "\n",
    "\n",
    "En effet, on peut montrer que l'espérance des $y_i$ est nulle et sa variance est égale à $\\sigma^2/I$.\n",
    "Ainsi, la puissance du bruit est divisée par $I$, ce qui permet d'augmenter le RSB :\n",
    "-->\n",
    "\n",
    "<!-- \\exo{}\n",
    "\n",
    "% \\begin{questions}\n",
    "%   \\item Déterminez le polynôme de degré~0 (une constante, donc\\dots) qui approxime au mieux\n",
    "%   les données d'abscisses $n=(0,\\ 1)$ et d'ordonnées $y=(2,\\ 3)^T$.\n",
    "%   \\item Déterminez le polynôme de degré~1 (une droite affine) qui approxime au mieux\n",
    "%   les données d'abscisses $n=(0,\\ 1,\\ 2)$ et d'ordonnées $y=(2,\\ 4,\\ 4)^T$.\n",
    "% \\end{questions}\n",
    "\n",
    "Déterminez les polynômes de degré~$d$ qui approximent au mieux les données d'abscisses $n$ et d'ordonnées $y$ dans les deux cas suivants~:\n",
    "\\begin{questions}\n",
    "  \\item $d=0$ \\quad $n=(0,\\ 1)^T$ \\quad $y=(2,\\ 3)^T$.\n",
    "  \\item $d=1$ \\quad $n=(0,\\ 1,\\ 2)^T$ \\quad $y=(2,\\ 4,\\ 4)^T$.\n",
    "\\end{questions}\n",
    "On rappelle que l'inverse d'une matrice $2\\times2$ $\\begin{pmatrix} a & b \\\\ c & d \\end{pmatrix}$\n",
    "est égale à $\\displaystyle\\frac{1}{ad-bc} \\begin{pmatrix} d & -b \\\\ -c & a \\end{pmatrix}$.\n",
    " -->"
   ]
  }
 ],
 "metadata": {
  "kernelspec": {
   "display_name": "Python 3",
   "language": "python",
   "name": "python3"
  },
  "language_info": {
   "codemirror_mode": {
    "name": "ipython",
    "version": 3
   },
   "file_extension": ".py",
   "mimetype": "text/x-python",
   "name": "python",
   "nbconvert_exporter": "python",
   "pygments_lexer": "ipython3",
   "version": "3.7.2"
  }
 },
 "nbformat": 4,
 "nbformat_minor": 4
}
