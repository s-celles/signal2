{
 "cells": [
  {
   "cell_type": "markdown",
   "metadata": {},
   "source": [
    "(C:laplace)=\n",
    "# Transformée de Laplace\n",
    "\n",
    "La transformée de Fourier d'un signal ne peut se calculer que si le signal est d'intégrale sommable\n",
    "(c'est-à-dire que son intégrale ne tend pas vers l'infini).\n",
    "Or, la réponse impulsionnelle d'un système instable peut tendre vers l'infini,\n",
    "emêchant donc le calcul de sa transformée de Fourier, qui correspond à sa réponse fréquentielle.\n",
    "Dans ce cas, on utilise la transformée de Laplace."
   ]
  },
  {
   "cell_type": "markdown",
   "metadata": {},
   "source": [
    "## Définition\n",
    "\n",
    "La transformée de Laplace d'un signal à temps continu $x(t)$ est :\n",
    "\n",
    "$$\n",
    "X(s) = \\int_{-\\infty}^{+\\infty} x(t) e^{-st} dt\n",
    "$$\n",
    "\n",
    "où $s = \\sigma + j\\omega$ est la variable (complexe) de Laplace.\n",
    "Cette formule est très semblable à la transformée de Fourier,\n",
    "à la différence que l'imaginaire pur $j2\\pi f$ de la transformée de Fourier\n",
    "est remplacé par le complexe $s$ de la transformée de Laplace.\n",
    "\n",
    "On notera dans la suite : $X(s) = \\mathcal{L}[x(t)]$.\n",
    "\n",
    "Dans le cadre du filtrage, la transformée de Laplace $H(s)$ de la réponse impulsionnelle $h(t)$ d'un filtre analogique\n",
    "est appelée « fonction de transfert » (_transfer function_).\n",
    "Elle correspond au quotient entre les transformées de Laplace de la sortie et de l'entrée :\n",
    "\n",
    "$$\n",
    "H(s) = \\frac{Y(s)}{X(s)}.\n",
    "$$"
   ]
  },
  {
   "cell_type": "markdown",
   "metadata": {},
   "source": [
    "(S:laplace:pz)=\n",
    "## Diagramme pôles–zéros\n",
    "\n",
    "La transformée de Laplace est une fonction complexe (à cause de la présence de l'exponentielle complexe)\n",
    "d'une variable complexe ($s$ est complexe).\n",
    "Pour la représenter, il faudrait donc quatre dimensions !\n",
    "C'est bien sûr trop compliqué.\n",
    "D'ailleurs, il n'y aurait pas de réel intérêt à la représenter.\n",
    "Juste pour la curiosité, la transformée de Laplace de $e^{-at} \\cos(bt) u(t)$ est représentée {numref}`F:laplace:laplace4d`.\n",
    "Vous conviendrez que ce n'est pas simple à interpréter !\n",
    "\n",
    "```{figure} _static/figs/laplace4d.png\n",
    "---\n",
    "height: 250px\n",
    "name: F:laplace:laplace4d\n",
    "---\n",
    "Représentation 3D du module et de l'argument de la tranformée de Laplace de $e^{-at} \\cos(bt) u(t)$.\n",
    "```\n",
    "\n",
    "À la place, on utilise une représentation schématique de la transformée de Laplace : le diagramme pôles–zéros (_pole–zero plot_).\n",
    "Celui-ci est une représentation des singularités de la transformée de Laplace :\n",
    "* les lieux où elle tend vers zéro sont représentés par des $\\circ$ et sont appelés à juste titre « zéros »,\n",
    "* les lieux où elle tend vers $\\pm \\infty$ sont représentés par des $\\times$ et sont appelés « pôles ».\n",
    "\n",
    "La {numref}`F:laplace:diagrammepz` représente le diagramme pôles–zéros de $e^{-at} \\cos(bt) u(t)$.\n",
    "Cette fois-ci, cette représentation est simple à interpréter !\n",
    "\n",
    "```{glue:figure} G:laplace:diagrammepz\n",
    ":name: \"F:laplace:diagrammepz\"\n",
    "\n",
    "Diagramme pôles–zéros et région de convergence du système de réponse impulsionnelle $h(t) = e^{-at} \\cos(bt) u(t)$\n",
    "(ici, $a=1$ et $b=2\\pi$).\n",
    "```\n",
    "\n",
    "Dans certaines conditions (liées à la région de convergence que l'on verra plus loin),\n",
    "la transformée de Fourier est égale à la transformée de Laplace pour $\\sigma=0$,\n",
    "ce qui correspond à l'axe de imaginaires purs (l'axe vertical sur le diagramme pôles–zéros).\n",
    "Pour le signal $e^{-at} \\cos(bt) u(t)$, la transformée de Fourier est matérialisée\n",
    "sur les {numref}`F:laplace:laplace4d` (en noir) et {numref}`F:laplace:diagrammepz` (en orange)."
   ]
  },
  {
   "cell_type": "code",
   "execution_count": 1,
   "metadata": {
    "tags": [
     "remove-cell"
    ]
   },
   "outputs": [
    {
     "data": {
      "application/papermill.record/image/png": "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\n",
      "application/papermill.record/text/plain": "<Figure size 288x288 with 1 Axes>"
     },
     "metadata": {
      "scrapbook": {
       "mime_prefix": "application/papermill.record/",
       "name": "G:laplace:diagrammepz"
      }
     },
     "output_type": "display_data"
    },
    {
     "data": {
      "image/png": "[encoded data removed]",
      "text/plain": [
       "<Figure size 288x288 with 1 Axes>"
      ]
     },
     "metadata": {
      "needs_background": "light"
     },
     "output_type": "display_data"
    }
   ],
   "source": [
    "# Diagramme pôlez-zéros et ROC de exp(-at) × cos(bt) × u(t)\n",
    "\n",
    "import math\n",
    "import numpy as np\n",
    "import scipy.signal as sig\n",
    "import matplotlib\n",
    "import matplotlib.pyplot as plt\n",
    "import matplotlib.patches as pat\n",
    "from myst_nb import glue\n",
    "\n",
    "matplotlib.rcParams['text.usetex'] = True\n",
    "\n",
    "lim = 7.9\n",
    "\n",
    "a = 1\n",
    "b = 2*math.pi\n",
    "z, p, k = sig.tf2zpk([1, a], [1, 2*a, a**2+b**2])\n",
    "\n",
    "fig = plt.figure(figsize=(4,4))\n",
    "ax = plt.subplot()\n",
    "\n",
    "# Axes\n",
    "plt.plot([-lim, lim], [0, 0], \"k\", linewidth=.5)\n",
    "\n",
    "# # ROC\n",
    "# ax.fill([-a, -a, lim, lim], [-lim, lim, lim, -lim], fill=False, hatch='\\\\', color=\"silver\")\n",
    "# plt.text(1.1, -1.6, \"ROC\", color=\"silver\", size=20)\n",
    "\n",
    "# Pôles\n",
    "plt.plot(np.real(p), np.imag(p), \"x\", color=\"tab:blue\", markersize=10)\n",
    "\n",
    "# Zéros\n",
    "plt.plot(np.real(z), np.imag(z), \"o\", color=\"tab:blue\", fillstyle=\"none\", markersize=10)\n",
    "\n",
    "# TF\n",
    "plt.plot([0, 0], [-lim, lim], \"tab:orange\", linewidth=1)\n",
    "plt.arrow(.8, 2.1, -.5, 0, color=\"tab:orange\", head_width=0.15)\n",
    "plt.text(1, 1.65, \"Lieu de la\\ntranformée\\nde Fourier\", color=\"tab:orange\", size=14)\n",
    "\n",
    "plt.grid()\n",
    "plt.axis([-lim, lim, -lim, lim])\n",
    "plt.xlabel(r\"$\\sigma = \\mathrm{Re}(s)$\", size=14)\n",
    "plt.ylabel(r\"$\\omega = \\mathrm{Im}(s)$\", size=14)\n",
    "\n",
    "glue(\"G:laplace:diagrammepz\", fig, display=False)"
   ]
  },
  {
   "cell_type": "markdown",
   "metadata": {},
   "source": [
    "(S:laplace:inverse)=\n",
    "## Transformée inverse\n",
    "\n",
    "La transformée de Laplace inverse de $X(s)$ est :\n",
    "\n",
    "$$\n",
    "x(t) = \\frac{1}{2\\pi j} \\int X(s) e^{+st} ds.\n",
    "$$\n",
    "\n",
    "Le calcul de cette intégrale s'effectue en intégrant le long d'un contour dans le plan complexe en s.\n",
    "C'est un calcul compliqué qui nécessite des notions que nous n'aborderons pas dans ce cours,\n",
    "tel que le [théorème des résidus](https://fr.wikipedia.org/wiki/Th%C3%A9or%C3%A8me_des_r%C3%A9sidus).\n",
    "\n",
    "```{margin}\n",
    "Une fraction rationelle est une fraction entre deux polynômes.\n",
    "```\n",
    "\n",
    "Or, la plupart des transformées de Laplace s'écrivent sous forme d'une fraction rationnelle,\n",
    "leur inverse peut être calculée à l'aide d'une décomposition en éléments simples\n",
    "(_partial fraction expansion_ ; voir le cours de mathématiques ou d'automatique).\n",
    "On utilise ensuite des [tables](https://en.wikipedia.org/wiki/List_of_Laplace_transforms#Table)\n",
    "pour obtenir l'expression de la transformée inverse.\n",
    "\n",
    "Les transformées de Laplace s'écrivent donc dans la plupart des cas sous la forme :\n",
    "\n",
    "$$\n",
    "H(s) = \\frac{ \\sum_{n=0}^N b_n s^n }{ \\sum_{n=0}^M a_m s^m }\n",
    "     = \\frac{ b_Ns^N + b_{N-1}s^{N-1} + \\dots + b_1s + b_0 }{ a_Ms^M + a_{M-1}s^{M-1} + \\dots + a_1s + a_0 }\n",
    "$$\n",
    "\n",
    "où les constantes $b_n$ et $a_m$ sont les coefficients de la fonction de transfert $H(s)$.\n",
    "Avec un peu de calcul, l'expression précédente peut aussi d'écrire sous la forme :\n",
    "\n",
    "$$\n",
    "H(s) = k \\frac{ \\prod_{n=0}^N (s-z_n) }{ \\prod_{n=0}^M (s-p_m) }\n",
    "     = k \\frac{ (s-z_M)(s-z_{M-1}) \\dots (s-z_1)(s-z_0) }{ (s-p_M)(s-p_{M-1}) \\dots (s-p_1)(s-p_0) }\n",
    "$$\n",
    "\n",
    "où les constantes $z_n$ et $p_m$ sont respectivement les zéros et les pôles de la fonction de transfert $H(s)$\n",
    "et $k$ est une constante multiplicative appelée gain.\n",
    "Les zéros $z_n$ annulent le numérateur de la fonction de transfert (et donc la fonction de transfert elle-même),\n",
    "tandis que les pôles $p_m$ annulent le dénumérateur (et font tendre la fonction de transfert vers l'infini).\n",
    "\n",
    "La constante $M$ correspond au nombre de pôles et définit l'« ordre » de la fonction de transfert."
   ]
  },
  {
   "cell_type": "markdown",
   "metadata": {},
   "source": [
    "## Propriétés\n",
    "\n",
    "Les propriétés de la transformée de Laplace sont similaires à celles de la transformée de Fourier.\n",
    "On note $a$ et $b$ deux constantes, $x$, $x_1$ et $x_2$ des signaux\n",
    "et $X$, $X_1$ et $X_2$ leurs transformées de Laplace respectives.\n",
    "\n",
    "* Linéarité :\n",
    "  \n",
    "  $$\n",
    "  ax_1(t) + bx_2(t)\n",
    "  \\quad\\xrightarrow{\\quad\\mathcal{L}\\quad}\\quad\n",
    "  a X_1(s) + b X_2(s)\n",
    "  $$\n",
    "\n",
    "* Translation :\n",
    "\n",
    "  $$\n",
    "  x(t-T)\n",
    "  \\quad\\xrightarrow{\\quad\\mathcal{L}\\quad}\\quad\n",
    "  e^{-sT} X(s)\n",
    "  $$\n",
    "\n",
    "* Convolution :\n",
    "\n",
    "  $$\n",
    "  (x_1*x_2)(t)\n",
    "  \\quad\\xrightarrow{\\quad\\mathcal{L}\\quad}\\quad\n",
    "  X_1(s) \\times X_2(s)\n",
    "  $$\n",
    "\n",
    "* Dérivée temporelle :\n",
    "\n",
    "  $$\n",
    "  \\frac{d}{dt}x(t)\n",
    "  \\quad\\xrightarrow{\\quad\\mathcal{L}\\quad}\\quad\n",
    "  s X(s)\n",
    "  $$\n",
    "\n",
    "* Dilatation :\n",
    "\n",
    "  $$\n",
    "  x(at)\n",
    "  \\quad\\xrightarrow{\\quad\\mathcal{L}\\quad}\\quad\n",
    "  \\frac{1}{|a|} X\\left(\\frac{s}{a}\\right)\n",
    "  $$"
   ]
  },
  {
   "cell_type": "markdown",
   "metadata": {},
   "source": [
    "## Région de convergence et stabilité\n",
    "\n",
    "La région de convergence (ROC, pour _region of convergence_) définit la partie du plan en $z$\n",
    "pour laquelle le système étudié est stable.\n",
    "\n",
    "Prenons l'exemple de la réponse impulsionnelle $h(t) = e^{-at} u(t)$.\n",
    "Elle est suffisamment simple pour que l'on identifie rapidement la zone de stabilité du système.\n",
    "La {numref}`F:laplace:ri` représente cette réponse impulsionnelle pour plusieurs valeur de $a$ :\n",
    "On constate que lorsque $a>0$ alors le système revient à sa position d'équilibre,\n",
    "alors que si $a<0$ le système est instable.\n",
    "\n",
    "```{glue:figure} G:laplace:ri\n",
    ":name: \"F:laplace:ri\"\n",
    "\n",
    "Réponse impulsionnelle $h(t) = e^{-at} u(t)$ pour plusieurs valeurs de $a$.\n",
    "```\n",
    "\n",
    "La fonction de transfert de ce système est :\n",
    "\n",
    "$$\n",
    "H(s) &= \\int_{-\\infty}^{+-\\infty} h(t) e^{-st} dt \\\\\n",
    "     &= \\int_{0}^{+-\\infty} e^{-at} e^{-st} dt \\\\\n",
    "     &= \\left[ \\frac{e^{-t(s+a)}}{-(s+a)} \\right]_{0}^{+-\\infty} \\\\\n",
    "     &= \\frac{\\lim_{t \\to +\\infty} e^{-t(s+a)} - 1}{-(s+a)}\n",
    "$$\n",
    "\n",
    "Avant de déterminer la valeur de la limite de $e^{-t(s+a)}$ en $+\\infty$,\n",
    "rappelons que $s$ est complexe et s'écrit $s=\\sigma+j\\omega$.\n",
    "Donc l'exponentielle $e^{-t(s+a)}$ se décompose en deux exponentielles :\n",
    "\n",
    "$$\n",
    "e^{-t(s+a)} = e^{-t(\\sigma+j\\omega+a)} = e^{-t(\\sigma+a)} e^{-j\\omega t}.\n",
    "$$\n",
    "\n",
    "Lorsque $t$ tend vers l'infini, $e^{-j\\omega t}$ ne diverge pas\n",
    "(souvenez-vous que [l'expontielle complexe a une forme de tire-bouchon](https://vincmazet.github.io/signal1/signaux-elementaires.html#exponentielle-complexe)).\n",
    "En ce qui concerne l'exponentielle réelle $e^{-t(\\sigma+a)}$, trois cas sont possibles :\n",
    "* si $s+a > 0$ alors $e^{-t(\\sigma+a)}$ est une exponentielle décroissante et tend vers 0,\n",
    "* si $s+a = 0$ alors $e^{-t(\\sigma+a)}$ est une constante égale à 1,\n",
    "* si $s+a < 0$ alors $e^{-t(\\sigma+a)}$ est une exponentielle croissante et tend vers l'infini.\n",
    "\n",
    "En combinant les limites des deux exponentielles, il advient que si et seulement si $s+a > 0$ alors $e^{-t(s+a)}$ converge\n",
    "(vers zéro).\n",
    "On peut donc continuer le calcul de la fonction de transfert, uniquement dans le cs $s+a > 0$ :\n",
    "\n",
    "$$\n",
    "H(s) = \\frac{0 - 1}{-(s+a)} = \\frac{1}{s+a}\n",
    "$$\n",
    "\n",
    "On a donc obtenu l'expression de la fonction de transfert du système étudié,\n",
    "qui n'est vraie que dans le cas où $s+a > 0$.\n",
    "\n",
    "Cette condition ($s+a > 0$, ou autrement $s>-a$) définit la région de convergence du système.\n",
    "On peut donc la représenter sur le diagramme pôles–zéros ({numref}`F:laplace:pz`).\n",
    "\n",
    "```{glue:figure} G:laplace:pz\n",
    ":name: \"F:laplace:pz\"\n",
    "\n",
    "Diagramme pôles–zéros et région de convergence du système de réponse impulsionnelle $h(t) = e^{-at} u(t)$\n",
    "(ici, $a=1.5$).\n",
    "```\n",
    "\n",
    "On remarque par ailleurs que $-a$ est l'unique pôle de la fonction de de transfert $H(s)$ (qui n'a d'ailleurs pas de zéros).\n",
    "Dans l'exemple de la {numref}`F:laplace:pz` où $a=1,5$,\n",
    "le lieu de la transformée de Fourier étant intégralement dans la région de convergence,\n",
    "on en déduit que le système est stable.\n",
    "\n",
    "De manière générale, on montre qu'un système analogique est stable\n",
    "si et seulement si tous ses pôles sont à partie réelle négative,\n",
    "impliquant qu'ils sont tous situés à gauche de l'axe vertical du diagramme pôles–zéros."
   ]
  },
  {
   "cell_type": "code",
   "execution_count": 2,
   "metadata": {
    "tags": [
     "remove-cell"
    ]
   },
   "outputs": [
    {
     "data": {
      "application/papermill.record/image/png": "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\n",
      "application/papermill.record/text/plain": "<Figure size 1080x144 with 4 Axes>"
     },
     "metadata": {
      "scrapbook": {
       "mime_prefix": "application/papermill.record/",
       "name": "G:laplace:ri"
      }
     },
     "output_type": "display_data"
    },
    {
     "data": {
      "image/png": "[encoded data removed]",
      "text/plain": [
       "<Figure size 1080x144 with 4 Axes>"
      ]
     },
     "metadata": {
      "needs_background": "light"
     },
     "output_type": "display_data"
    }
   ],
   "source": [
    "# Réponse impulsionnelle exp(-at) × u(t)\n",
    "\n",
    "import numpy as np\n",
    "import matplotlib\n",
    "import matplotlib.pyplot as plt\n",
    "from myst_nb import glue\n",
    "\n",
    "matplotlib.rcParams['text.usetex'] = True\n",
    "\n",
    "def h(t, a):\n",
    "    return np.where( t>=0, np.exp(-a*t), 0)\n",
    "\n",
    "t = np.arange(-1, 6, .01)\n",
    "fig = plt.figure(figsize=(15,2))\n",
    "i=0\n",
    "for a in np.arange(.5, -.5, -.25):\n",
    "    i+=1\n",
    "    plt.subplot(1,4,i)\n",
    "    plt.plot(t, h(t,a))\n",
    "    plt.axis([-.5, 5, -.5, 3])\n",
    "    plt.grid()\n",
    "    plt.xlabel(f\"$a={a}$\", size=14)\n",
    "\n",
    "glue(\"G:laplace:ri\", fig, display=False)"
   ]
  },
  {
   "cell_type": "code",
   "execution_count": 3,
   "metadata": {
    "tags": [
     "remove-cell"
    ]
   },
   "outputs": [
    {
     "data": {
      "application/papermill.record/image/png": "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\n",
      "application/papermill.record/text/plain": "<Figure size 288x288 with 1 Axes>"
     },
     "metadata": {
      "scrapbook": {
       "mime_prefix": "application/papermill.record/",
       "name": "G:laplace:pz"
      }
     },
     "output_type": "display_data"
    },
    {
     "data": {
      "image/png": "[encoded data removed]",
      "text/plain": [
       "<Figure size 288x288 with 1 Axes>"
      ]
     },
     "metadata": {
      "needs_background": "light"
     },
     "output_type": "display_data"
    }
   ],
   "source": [
    "# Diagramme pôlez-zéros et ROC de exp(-at) × u(t)\n",
    "\n",
    "import numpy as np\n",
    "import scipy.signal as sig\n",
    "import matplotlib\n",
    "import matplotlib.pyplot as plt\n",
    "import matplotlib.patches as pat\n",
    "from myst_nb import glue\n",
    "\n",
    "matplotlib.rcParams['text.usetex'] = True\n",
    "\n",
    "lim = 3.2\n",
    "\n",
    "a = 1.5\n",
    "z, p, k = sig.tf2zpk([1], [1, a])\n",
    "\n",
    "fig = plt.figure(figsize=(4,4))\n",
    "ax = plt.subplot()\n",
    "\n",
    "# Axes\n",
    "plt.plot([-lim, lim], [0, 0], \"k\", linewidth=.5)\n",
    "\n",
    "# ROC\n",
    "ax.fill([-a, -a, lim, lim], [-lim, lim, lim, -lim], color=\"#eeeeff\")\n",
    "plt.text(1.1, -1.6, \"ROC\", color=\"#8888ff\", size=20)\n",
    "\n",
    "# Pôles\n",
    "plt.plot(np.real(p), np.imag(p), \"x\", color=\"tab:blue\", markersize=10)\n",
    "\n",
    "# Zéros\n",
    "plt.plot(np.real(z), np.imag(z), \"o\", color=\"tab:blue\", fillstyle=\"none\", markersize=10)\n",
    "\n",
    "# TF\n",
    "plt.plot([0, 0], [-lim, lim], \"tab:orange\", linewidth=1)\n",
    "plt.arrow(.8, 2.1, -.5, 0, color=\"tab:orange\", head_width=0.15)\n",
    "plt.text(1, 1.65, \"Lieu de la\\ntranformée\\nde Fourier\", color=\"tab:orange\", size=14)\n",
    "\n",
    "plt.grid()\n",
    "plt.axis([-lim, lim, -lim, lim])\n",
    "plt.xlabel(r\"$\\sigma = \\mathrm{Re}(s)$\", size=14)\n",
    "plt.ylabel(r\"$\\omega = \\mathrm{Im}(s)$\", size=14)\n",
    "\n",
    "glue(\"G:laplace:pz\", fig, display=False)"
   ]
  }
 ],
 "metadata": {
  "kernelspec": {
   "display_name": "Python 3",
   "language": "python",
   "name": "python3"
  },
  "language_info": {
   "codemirror_mode": {
    "name": "ipython",
    "version": 3
   },
   "file_extension": ".py",
   "mimetype": "text/x-python",
   "name": "python",
   "nbconvert_exporter": "python",
   "pygments_lexer": "ipython3",
   "version": "3.7.3"
  }
 },
 "nbformat": 4,
 "nbformat_minor": 4
}
