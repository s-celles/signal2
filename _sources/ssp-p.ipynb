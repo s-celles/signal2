{
 "cells": [
  {
   "cell_type": "markdown",
   "metadata": {},
   "source": [
    "(C:tp-ssp)=\n",
    "# TP Traitement statistique du signal\n",
    "\n",
    "> EQM"
   ]
  },
  {
   "cell_type": "markdown",
   "metadata": {},
   "source": [
    "## Détection de motif par filtrage adapté\n",
    "\n",
    "Le codage Manchester est une norme de transmission de signaux binaires,\n",
    "utilisée notamment dans certaines communications Ethernet.\n",
    "Les bits du signal binaire sont transmis les uns à la suite des autres ;\n",
    "un 1 logique est représenté par le motif $h$ ({numref}`F:ssp:manchester`),\n",
    "tandis qu'un 0 logique est représenté par $-h$.\n",
    "\n",
    "```{figure} _static/figs/manchester.png\n",
    "---\n",
    "height: 150px\n",
    "name: F:ssp:manchester\n",
    "---\n",
    "Motif $h$ utilisé dans le codage Manchester.\n",
    "```\n",
    "\n",
    "Dans cet exercice, nous reproduisons la chaîne de communication avec un émetteur qui crée un message binaire codé en Manchester,\n",
    "un canal de transmission où s'ajoute du bruit au signal émis,\n",
    "et enfin un récepteur dont l'objectif est de décoder le signal reçu.\n",
    "\n",
    "* Créez un vecteur contenant le motif $h$ de durée $T=10^{-7}$ s et échantillonné à $10^{9}$ Hz.\n",
    "\n",
    "* En concaténant plusieurs motifs (par exemple avec `numpy.concatenate`),\n",
    "  créez le signal correspondant à la séquence binaire $1\\ 0\\ 1\\ 1$.\n",
    "  Pensez à définir un nouveau vecteur de temps pour afficher le signal.\n",
    "\n",
    "* Ajoutez un bruit gaussien (`numpy.random.normal`) à ce signal de sorte à obtenir un RSB de 10 dB\n",
    "  (utilisez le résultat de l'exercice 3 du TD pour obtenir le lien entre le RSB et l'écart-type du bruit).\n",
    "  La norme peut être calculée avec `np.linalg.norm`.\n",
    "  Vérifiez notamment que le niveau de bruit évolue conformément à la valeur du RSB.\n",
    "  \n",
    "On se place maintenant au niveau du récepteur :\n",
    "un filtre adapté est utilisé pour retrouver la séquence binaire à partir du signal bruité.\n",
    "\n",
    "* On a vu en cours que le filtre adapté peut s'implémenter comme la convolution entre le signal bruité\n",
    "  et une réponse impulsionnelle.\n",
    "  Quelle est cette réponse impulsionnelle ?\n",
    "\n",
    "* Appliquez le filtre adapté avec une convolution sur le signal bruité.\n",
    "  Décrivez le signal obtenu.\n",
    "  Comment retrouver la séquence binaire à partir de ce signal ?  \n",
    "\n",
    "* Évaluez la robustesse du filtrage adapté en fonction du niveau de bruit :\n",
    "  comment se comporte cette méthode lorsque le RSB évolue ?\n",
    "\n",
    "* Appliquez le filtre adapté sur le signal [manchester.csv](https://vincmazet.github.io/signal2/_static/files/manchester.csv)\n",
    "  pour décoder la séquence binaire correspondante\n",
    "  (la durée $T$ du motif et la fréquence d'échantillonnage restant les mêmes que dans les questions précédentes).\n",
    "  Vous pouvez déterminer visuellement les bits de la séquence (sans programmation, donc)\n",
    "  et retrouver le message correspondant sachant que la norme ASCII a été utilisée."
   ]
  },
  {
   "cell_type": "markdown",
   "metadata": {},
   "source": [
    "## Lissage par filtre moyenneur\n",
    "\n",
    "```{margin}\n",
    "Source : NASA/GISS, [climate.nasa.gov/vital-signs/global-temperature](https://climate.nasa.gov/vital-signs/global-temperature/).\n",
    "```\n",
    "\n",
    "Le fichier [temperatures.csv](https://vincmazet.github.io/signal2/_static/files/temperatures.csv) regroupe l'ensemble des températures moyennes à la surface de la Terre\n",
    "pour chaque année depuis 1880.\n",
    "Les températures sont données par rapport à la moyenne des températures relevées sur la période de référence 1951–1980.\n",
    "Ces données illustrent la hausse de températures mondiales.\n",
    "\n",
    "* Chargez le fichier [temperatures.csv](https://vincmazet.github.io/signal2/_static/files/temperatures.csv) et affichez les données.\n",
    "\n",
    "* Appliquez un filtre moyenneur sur les données pour obtenir une courbe plus lisse.\n",
    "  Choisissez le filtre de sorte à obtenir des températures lissées sur une fenêtre de 5 ans,\n",
    "  qui est le choix traditionnel pour ces données."
   ]
  },
  {
   "cell_type": "markdown",
   "metadata": {},
   "source": [
    "## Approximation par moindres carrés\n",
    "\n",
    "<!-- supprimer la 1re partie + ajouter des questions d'analyse et de compréhension -->\n",
    "\n",
    "À la place d'un filtre moyenneur, on souhaite effectuer une approximation de l'évolution des températures par une parabole.\n",
    "\n",
    "* Calculez l'approximation des températures\n",
    "  ([temperatures.csv](https://vincmazet.github.io/signal2/_static/files/temperatures.csv)) par une parabole.\n",
    "  Pour cela :\n",
    "  - normalisez les abscisses entre 0 et 1 pour éviter les problème numériques ;\n",
    "  - la transposée est obtenue avec `numpy.transpose` ;\n",
    "  - la multiplication matricielle est obtenue avec `numpy.dot` ;\n",
    "  - l'inverse matricielle est obtenue avec `numpy.linalg.pinv` ;\n",
    "  - attention à la dimension des matrices et vecteurs (vérifiez bien chaque étape du calcul avec `shape` !) ;\n",
    "  - Pour générer la matrice $H$ des coefficients et le vecteur des données $y$,\n",
    "    vous pouvez vous inspirer du code suivant :\n",
    "    ```\n",
    "    y = np.transpose(np.array([temperatures]))\n",
    "    H = np.transpose(np.array([ x**0, x**1, x**2 ]))\n",
    "    ```\n",
    "  \n",
    "  Affichez le résultat sur la courbe des températures pour vérifier\n",
    "  la bonne adéquation de l'approximation par rapport aux données.\n",
    "  \n",
    "* En définissant une nouvelle matrice $H$,\n",
    "  extrapolez l'évolution des températures pour connaître, selon ce modèle,\n",
    "  la hausse des températures attendue l'année de votre 70<sup>e</sup> anniversaire..."
   ]
  }
 ],
 "metadata": {
  "kernelspec": {
   "display_name": "Python 3",
   "language": "python",
   "name": "python3"
  },
  "language_info": {
   "codemirror_mode": {
    "name": "ipython",
    "version": 3
   },
   "file_extension": ".py",
   "mimetype": "text/x-python",
   "name": "python",
   "nbconvert_exporter": "python",
   "pygments_lexer": "ipython3",
   "version": "3.7.3"
  }
 },
 "nbformat": 4,
 "nbformat_minor": 4
}
