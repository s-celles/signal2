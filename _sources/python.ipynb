{
 "cells": [
  {
   "cell_type": "markdown",
   "metadata": {},
   "source": [
    "(C:python)=\n",
    "# Installer et utiliser Python\n",
    "\n",
    "Cette année, nous utiliserons Python plutôt que Matlab pour les TP. Contrairement à Matlab, Python est libre et gratuit donc plus facilement utilisable en cas de confinement. C'est également un langage moderne et de haut niveau qui est de plus en plus utilisé dans l'industrie et les disciplines scientifiques. Il est à peu près aussi puissant que Matlab pour ce qui est de la programmation scientifique. Enfin, [le sondage de juin dernier](https://vincmazet.github.io/signal2/_static/figs/matlab-python.png) a montré une tendance de votre part pour basculer vers Python.\n",
    "\n",
    "Dans le cas où les TP ne peuvent se faire en présentiel sur les ordinateur de l'école, vous devrez coder sur vos ordinateurs personnels.\n",
    "Cette page décrit donc comment :\n",
    "* installer Python à travers la distribution Anaconda\n",
    "* écrire des _notebooks_ avec Jupyter Lab\n",
    "* utiliser des modules additionnels et commencer à programmer"
   ]
  },
  {
   "cell_type": "markdown",
   "metadata": {},
   "source": [
    "## Installation\n",
    "\n",
    "Anaconda est une distribution Python spécialisée dans la science des données et l'apprentissage machine.\n",
    "Pour un usage individuel, elle est gratuite et suffisante pour effectuer les TP de traitement du signal.\n",
    "[Téléchargez](https://www.anaconda.com/products/individual) et installer Anaconda si Python n'est pas déjà présent sur votre ordinateur.\n",
    "Attention, choisissez la version 3 (ou supérieure) de Python !"
   ]
  },
  {
   "cell_type": "markdown",
   "metadata": {},
   "source": [
    "(C:python:notebook)=\n",
    "## Notebooks Python\n",
    "\n",
    "Après avoir installé Anaconda, vous êtes prêt à écrire et exécuter des notebooks Python !\n",
    "Un [_notebook_](https://jupyterlab.readthedocs.io/en/latest/user/notebook.html) est un fichier contenant du code, mais également les résultats produits par ce code (comme des valeurs numériques ou des images) et du texte qui accompagnera le code.\n",
    "Un notebook est divisé en _cellules_ qui peuvent être de deux tyes : « code » ou « markdown ».\n",
    "En appuyant sur `Ctrl + Entrée` dans une cellule, le code de celle-ci (et uniquement de celle-ci) est exécuté.\n",
    "\n",
    "Il faut un logiciel spécialisé pour afficher et utiliser un notebook, comme Jupyter Lab.\n",
    "Une description de ce logiciel est donné plus bas.\n",
    "\n",
    "### Cellules de code\n",
    "\n",
    "Les cellules contiennent par défaut du code Python (_input_) et le résultat (_output_).\n",
    "\n",
    "Par exemple le code (_input_) suivant :\n",
    "\n",
    "```python\n",
    "a = 21\n",
    "b = 42\n",
    "c = a + b\n",
    "print(\"La valeur est \" + str(c))\n",
    "```\n",
    "\n",
    "produit le résultat (_output_) :\n",
    "  \n",
    "    La valeur est 63\n",
    "    \n",
    "  \n",
    "### Cellules Markdown\n",
    "\n",
    "Il est possible de canger une cellule de « code » en cellule « markdown » en sélectionnant _Markdown_ dans la liste déroulante de la barre d'outils.\n",
    "Le [Markdown](https://en.wikipedia.org/wiki/Markdown) est aussi un langage informatique, mais il sert à mettre en forme du texte (par exemple en écrivant des titres, des listes, des équations...).\n",
    "Cela peut être utile pour ajouter des notes et commenter votre code et ses résultats.\n",
    "\n",
    "Ainsi :\n",
    "\n",
    "    la sinusoïde a pour expression :\n",
    "    \n",
    "    $$\n",
    "      x(t) = A \\sin(2 \\pi f t + \\varphi)\n",
    "    $$\n",
    "    \n",
    "    où :\n",
    "    * $A$ est l'_amplitude_\n",
    "    * $f$ est la _fréquence_\n",
    "    * $\\varphi$ est le _déphasage_\n",
    "\n",
    "produit :\n",
    "\n",
    "---\n",
    "\n",
    "<div class=\"highlight-none notranslate\">\n",
    "\n",
    "la sinusoïde a pour expression :\n",
    "\n",
    "$$\n",
    "  x(t) = A \\sin(2 \\pi f t + \\varphi)\n",
    "$$\n",
    "\n",
    "où :\n",
    "* $A$ est l'_amplitude_\n",
    "* $f$ est la _fréquence_\n",
    "* $\\varphi$ est le _déphasage_\n",
    "\n",
    "</div>\n",
    "\n",
    "Vous trouverez le résumé de la syntaxe Markdown sur [cette page](https://en.wikipedia.org/wiki/Markdown#Example).\n",
    " \n",
    "\n",
    "### Jupyter Lab\n",
    "\n",
    "Pour le développement de programme en Python dans un but scientifique, il est recommandé d'utiliser [Jupyter Lab](https://jupyterlab.readthedocs.io/en/latest/index.html).\n",
    "C'est un logiciel moderne et libre pour écrire de notebooks (cf. {ref}`C:python:notebook`).\n",
    "\n",
    "La {numref}`figure {number} <F:python:jupyterlab>` montre l'interface de Jupyter Lab :\n",
    "elle est suffisamment intuitive pour se débrouiller sans aide, mais vous pouvez toujours consulter [cette page](https://jupyterlab.readthedocs.io/en/latest/user/interface.html) pour en savoir plus.\n",
    "\n",
    "```{figure} https://jupyterlab.readthedocs.io/en/latest/_images/interface_jupyterlab.png\n",
    "---\n",
    "name: F:python:jupyterlab\n",
    "---\n",
    "Jupyter Lab.\n",
    "```\n",
    "\n",
    "Normalement, Jupyter Lab est inclus dans l'installation d'Anaconda.\n",
    "Mais si ce n'est pas le cas, vous trouverez les instructions pour installer Jupyter Lab [ici](https://jupyter.org/install.html)."
   ]
  },
  {
   "cell_type": "markdown",
   "metadata": {},
   "source": [
    "(C:python:python)=\n",
    "## Écrire un programme Python\n",
    "\n",
    "Le cœur du langage Python ne dispose pas de toutes les fonctions utiles pour la programmation scientifique, et le traitement du signal en particulier.\n",
    "Il est donc nécessaire d'importer des modules dans votre code (normalement, ces modules sont installés avec Anaconda).\n",
    "En général, nous n'utiliserons que deux modules :\n",
    "* [numpy](https://numpy.org/), qui fournit des fonctions générales pour la programmation scientifique,\n",
    "* [matplotlib](https://matplotlib.org/), pour afficher les signaux.\n",
    "\n",
    "Les modules Python sont importés dans votre code en utilisant l'instruction `import`."
   ]
  },
  {
   "cell_type": "markdown",
   "metadata": {},
   "source": [
    "Par exemple, le code suivant affiche la sinusoïde $\\sin(2\\pi f n)$ de fréquence $f=0,3$ Hz :"
   ]
  },
  {
   "cell_type": "code",
   "execution_count": 1,
   "metadata": {},
   "outputs": [
    {
     "data": {
      "image/png": "[encoded data removed]",
      "text/plain": [
       "<Figure size 432x288 with 1 Axes>"
      ]
     },
     "metadata": {
      "needs_background": "light"
     },
     "output_type": "display_data"
    }
   ],
   "source": [
    "# Une ligne qui commence par le symbole # est un commentaire et n'est donc pas exécutée\n",
    "\n",
    "# Import du module 'numpy', que l'on utilisera dans la suite du code 'np' pour faire plus court\n",
    "import numpy as np\n",
    "\n",
    "# Import du sous-module 'pyplot' du module 'matplotlib', et renommage en 'plt'\n",
    "import matplotlib.pyplot as plt\n",
    "\n",
    "# Abscisses sur lesquelles sera calculée la sinusoïde : un point tous les 0,1 s entre 0 et 10 s\n",
    "n = np.arange(0, 10, 0.1)\n",
    "\n",
    "# Fréquence de la sinuoïde\n",
    "f = 0.3\n",
    "\n",
    "# Sinusoïde : c'est tout simple, il suffit d'écrire l'expression mathématique 😎\n",
    "x = np.sin(2*np.pi*f*n)\n",
    "\n",
    "# Création d'une figure\n",
    "plt.figure()\n",
    "\n",
    "# Affichage de la sinusoïde (dans la figure créée)\n",
    "plt.plot(n,x)\n",
    "\n",
    "# Légende des axes et titre\n",
    "plt.xlabel(\"$n$\")\n",
    "plt.ylabel(\"$x[n]$\")\n",
    "plt.title(\"Une belle sinusoïde\")\n",
    "\n",
    "# Affichage (pas toujours nécessaire, mais parfois c'est indispensable)\n",
    "plt.show()"
   ]
  }
 ],
 "metadata": {
  "kernelspec": {
   "display_name": "Python 3",
   "language": "python",
   "name": "python3"
  },
  "language_info": {
   "codemirror_mode": {
    "name": "ipython",
    "version": 3
   },
   "file_extension": ".py",
   "mimetype": "text/x-python",
   "name": "python",
   "nbconvert_exporter": "python",
   "pygments_lexer": "ipython3",
   "version": "3.7.2"
  },
  "widgets": {
   "application/vnd.jupyter.widget-state+json": {
    "state": {},
    "version_major": 2,
    "version_minor": 0
   }
  }
 },
 "nbformat": 4,
 "nbformat_minor": 4
}
