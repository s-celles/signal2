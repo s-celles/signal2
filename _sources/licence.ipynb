{
 "cells": [
  {
   "cell_type": "markdown",
   "metadata": {},
   "source": [
    "# Licence\n",
    "\n",
    "<span xmlns:cc=\"http://creativecommons.org/ns#\" property=\"cc:attributionName\">Vincent Mazet</span>,\n",
    "« <span xmlns:dct=\"http://purl.org/dc/terms/\" property=\"dct:title\">Traitement du signal</span> »,\n",
    "Université de Strasbourg, 2020.\n",
    "Pour me contacter : <a href=\"mailto:vincent.mazet@unistra.fr\">vincent.mazet@unistra.fr</a>.\n",
    "\n",
    "* </a>Cette œuvre (à l'exception des codes Javascript) est mise à disposition selon les termes de la <a rel=\"license\" href=\"http://creativecommons.org/licenses/by-nc/4.0/\">Licence Creative Commons Attribution - Pas d’Utilisation Commerciale 4.0 International</a>.\n",
    "* Les codes Javascript sont sous licence <a href=\"https://cecill.info/licences/Licence_CeCILL-B_V1-fr.html\">CeCILL-B</a>.\n",
    "\n",
    "Ce manuel est écrit avec <a href=\"https://jupyterbook.org\">Jupyter Book</a>."
   ]
  }
 ],
 "metadata": {
  "kernelspec": {
   "display_name": "Python 3",
   "language": "python",
   "name": "python3"
  },
  "language_info": {
   "codemirror_mode": {
    "name": "ipython",
    "version": 3
   },
   "file_extension": ".py",
   "mimetype": "text/x-python",
   "name": "python",
   "nbconvert_exporter": "python",
   "pygments_lexer": "ipython3",
   "version": "3.7.3"
  }
 },
 "nbformat": 4,
 "nbformat_minor": 4
}
