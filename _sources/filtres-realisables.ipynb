{
 "cells": [
  {
   "cell_type": "markdown",
   "metadata": {},
   "source": [
    "(C:filtre-reaslisables)=\n",
    "# Filtres réalisables"
   ]
  },
  {
   "cell_type": "markdown",
   "metadata": {},
   "source": [
    "Comme on l'a vu dans la section {ref}`C:filtres-ideaux`,\n",
    "il est impossible de réaliser des filtres idéaux (en temps réel en tout cas).\n",
    "Par conséquent, les filtres réalisables ne sont que des approximations des filtres idéaux :\n",
    "* des variations de gain dans les bandes passante et atténuée peuvent apparaître,\n",
    "* les transitions d'une bande à l'autre ne peuvent pas être aussi brusques que pour les filtres idéaux.\n",
    "\n",
    "La {numref}`F:filtre-intro:reel` représente un exemple de filtre passe-bas réalisable :\n",
    "le filtre idéal (en bleu) est en fait approximé par le filtre réalisable (en rouge).\n",
    "Par conséquent, pour définir un filtre, il faudra avant tout choisir un _gabarit_ (en vert)\n",
    "qui précise la zone dans laquelle devra se situer la réponse fréquentielle.\n",
    "\n",
    "```{figure} figs/filtre-reel.svg\n",
    "---\n",
    "width: 600px\n",
    "name: F:filtre-intro:reel\n",
    "---\n",
    "Exemple de gain pour un filtre passe-bas réalisable.\n",
    "```\n",
    "\n",
    "Très souvent, on utilise une échelle logarithmique pour les ordonnées, comme dans la {numref}`F:filtre-intro:reel-log`.\n",
    "\n",
    "```{figure} figs/filtre-reel-log.svg\n",
    "---\n",
    "width: 600px\n",
    "name: F:filtre-intro:reel-log\n",
    "---\n",
    "Exemple de gain pour un filtre passe-bas réalisable (en échelle logarithmique).\n",
    "```\n",
    "\n",
    "## Gabarit d'un filtre\n",
    "\n",
    "Par conséquent, la définition des caractéristiques d'un filtre nécessite au préalable la définition d'un gabarit\n",
    "(_filter specification_) qui définit :\n",
    "* l'ondulation maximale autorisée en bande passante (_pass-band ripple_), que l'on souhaite la plus faible possible,\n",
    "* l'atténuation minimale en bande atténuée (_stop-band attenuation_), que l'on souhaite la plus forte possible,\n",
    "* la largeur de transition entre bande passante et bande atténuée (_transition band_),\n",
    "  que l'on souhaite la plus étroite possible.\n",
    "\n",
    "À cela s'ajoute la volonté d'avoir un filtre le plus simple possible (car plus facile à réaliser et moins cher),\n",
    "ce qui implique une fonction de transfert d'ordre le plus faible possible (on le verra plus loin).\n",
    "\n",
    "\n",
    "## Fréquence de coupure\n",
    "\n",
    "Par ailleurs, la transition entre les bandes passante et atténuée n'étant plus instantanée,\n",
    "il faut redéfinir la fréquence de coupure.\n",
    "Généralement, la fréquence de coupure est définie comme la fréquence\n",
    "à laquelle le filtre a perdu la moitié de sa puissance instantanée (définie comme le carré du gain).\n",
    "\n",
    "On montre alors que la fréquence de coupure $f_c$ est la fréquence à laquelle le gain du filtre\n",
    "est à 3 dB sous le gain maximal.\n",
    "\n",
    "```{dropdown} Démonstration\n",
    "\n",
    "La puissance instantantée à la fréquence $f$ est notée $P(f)$.\n",
    "On cherche donc la valeur de $f$ pour laquelle $P(f) = \\frac{1}{2} P_\\mathrm{max}$, donc :\n",
    "\n",
    "$$\n",
    "P(f) &= \\frac{1}{2} P_\\mathrm{max} \\\\\n",
    "\\Leftrightarrow\\qquad |H(f)|^2 &= \\frac{1}{2} |H(f)|^2_\\mathrm{max} \\\\\n",
    "\\Leftrightarrow\\qquad 10 \\log_{10} |H(f)|^2 &= 10 \\log_{10} \\left[ \\frac{1}{2} |H(f)|^2_\\mathrm{max} \\right] \\\\\n",
    "\\Leftrightarrow\\qquad 20 \\log_{10} |H(f)| &= 10 \\log_{10} \\frac{1}{2} + 20 \\log_{10} |H(f)|_\\mathrm{max} \\\\\n",
    "\\Leftrightarrow\\qquad G_\\text{dB}(f) &\\approx -3.010 + {G_\\text{dB}}_\\mathrm{max} \\\\\n",
    "$$\n",
    "On arrondit la valeur de $10 \\log_{10} \\frac{1}{2}$ à $3$.\n",
    "```\n",
    "\n",
    "\n",
    "## Conception d'un filtre\n",
    "\n",
    "Pour résumer, la conception d'un filtre commence par la définition d'un gabarit,\n",
    "puis le choix d'une méthode de conception qui génère un filtre dont la réponse fréquentielle vérifie le gabarit souhaité.\n",
    "Les sections {ref}`C:filtres-numeriques` et {ref}`C:filtres-analogiques` présenteront des méthodes pour cela.\n",
    "\n",
    "Jusqu'ici, on a beaucoup plus parlé des spécifications des filtres en gain, et non en phase.\n",
    "En effet, la réalisation de filtres vérifiant à la fois des spécifications en gain et en phase est trop difficile,\n",
    "voire impossible.\n",
    "Heureusement, dans la plupart des applications, seul le gain est important ;\n",
    "dans ce cas, la phase n'est pas spécifiée et acceptée telle quelle.\n",
    "\n",
    "En revanche, si le gain et la phase sont tous les deux importants,\n",
    "alors on conçoit d'abord un filtre vérifiant le gain puis, si la phase obtenue n'est pas satisfaisante,\n",
    "on ajoute des filtres appelés « égaliseurs de phase » qui n'agissent que sur la phase."
   ]
  }
 ],
 "metadata": {
  "kernelspec": {
   "display_name": "Python 3 (ipykernel)",
   "language": "python",
   "name": "python3"
  },
  "language_info": {
   "codemirror_mode": {
    "name": "ipython",
    "version": 3
   },
   "file_extension": ".py",
   "mimetype": "text/x-python",
   "name": "python",
   "nbconvert_exporter": "python",
   "pygments_lexer": "ipython3",
   "version": "3.9.7"
  },
  "widgets": {
   "application/vnd.jupyter.widget-state+json": {
    "state": {},
    "version_major": 2,
    "version_minor": 0
   }
  }
 },
 "nbformat": 4,
 "nbformat_minor": 4
}
