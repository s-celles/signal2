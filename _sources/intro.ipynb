{
 "cells": [
  {
   "cell_type": "markdown",
   "metadata": {},
   "source": [
    "# Introduction\n",
    "\n",
    "Ce manuel est le support du cours de Traitement du signal de la formation en alternance FIP de\n",
    "[Télécom Physique Strasbourg](http://www.telecom-physique.fr/).\n",
    "Il correspond au cours de deuxième année, le cours de première année est accessible dans un [autre manuel](https://vincmazet.github.io/signal1/).\n",
    "Ce cours est accompagné d'une [page Moodle](https://moodle3.unistra.fr/course/view.php?id=14006)\n",
    "(accessible uniquement pour mes étudiants).\n",
    "Pour compléter le cours, je vous conseille de lire les documents listés dans les {ref}`C:biblio`.\n",
    "\n",
    "Ce cours est accompagné d'exercices théoriques (à faire sur feuille) et pratiques (programmation en Python).\n",
    "Une aide sur l'installation de Python et son utilisation est disponible sur la page {ref}`C:python`.\n",
    "\n",
    "Les deux premières séances de cours sont consacrées à des révisions : consultez directement les pages {ref}`C:td-rev` et {ref}`C:tp-rev` de révisions."
   ]
  }
 ],
 "metadata": {
  "kernelspec": {
   "display_name": "Python 3",
   "language": "python",
   "name": "python3"
  },
  "language_info": {
   "codemirror_mode": {
    "name": "ipython",
    "version": 3
   },
   "file_extension": ".py",
   "mimetype": "text/x-python",
   "name": "python",
   "nbconvert_exporter": "python",
   "pygments_lexer": "ipython3",
   "version": "3.7.2"
  },
  "widgets": {
   "application/vnd.jupyter.widget-state+json": {
    "state": {},
    "version_major": 2,
    "version_minor": 0
   }
  }
 },
 "nbformat": 4,
 "nbformat_minor": 4
}
