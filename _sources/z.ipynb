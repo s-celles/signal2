{
 "cells": [
  {
   "cell_type": "markdown",
   "metadata": {},
   "source": [
    "# Transformée en Z\n",
    "\n",
    "La transformée en Z est l'équivalent discret de la transformée de Laplace.\n",
    "Contrairement à Fourier et Laplace,\n",
    "Z n'est pas un scientifique mais seulement le nom que l'on a donné à la variable de cette transformée."
   ]
  },
  {
   "cell_type": "markdown",
   "metadata": {},
   "source": [
    "## Définition\n",
    "\n",
    "La transformée en Z d'un signal à temps discret $x[n]$ est :\n",
    "\n",
    "$$\n",
    "X(z) = \\sum_{n=-\\infty}^{+\\infty} x[n] z^{-n}\n",
    "$$\n",
    "\n",
    "où $z = \\rho e^{j\\theta}$ est la variable (complexe).\n",
    "C'est une variable continue, même si $s$ est échantillonné.\n",
    "Cette formule ressemble à la transformée de Fourier discrète, mais l'exponentielle est ici remplacée par la variable $z$.\n",
    "\n",
    "On notera dans la suite : $X(z) = \\mathcal{Z}[x[n]]$.\n",
    "\n",
    "$H(z)$ est la fonction de transfert du filtre numérique de réponse impulsionnelle h[n],\n",
    "et exprime le quotient des transformées en Z de la sortie sur l'entrée :\n",
    "\n",
    "$$\n",
    "H(z) = \\frac{Y(z)}{X(z)}.\n",
    "$$"
   ]
  },
  {
   "cell_type": "markdown",
   "metadata": {},
   "source": [
    "## Représentation\n",
    "\n",
    "De même que pour la transformée de Laplace, la transformée en Z est une fonction complexe d'une variable complexe\n",
    "et il serait difficile et inutile de la représenter.\n",
    "\n",
    "On utilise alors le diagramme pôles–zéros qui se construit de la même manière\n",
    "que pour la {ref}`transformée de Laplace <S:laplace:pz>`.\n",
    "\n",
    "Lorque $\\rho=1$, alors $z=e^{j\\theta}$.\n",
    "En réécrivant $\\theta^= 2\\pi f$, on retrouver alors l'expression de la transformée de Fourier discrète.\n",
    "En d'autres termes, la transformée de Fourier discrète est égale à la transformée en Z lorsque $z$ est de module 1.\n",
    "Cela correspond à un cercle de rayon 1 centré sur l'origine."
   ]
  },
  {
   "cell_type": "markdown",
   "metadata": {},
   "source": [
    "## Transformée inverse\n",
    "\n",
    "La transformée en Z inverse de $X(z)$ est :\n",
    "\n",
    "$$\n",
    "x[n] = \\frac{1}{2\\pi j} \\oint X(z) z^{n-1} dz.\n",
    "$$\n",
    "\n",
    "Le drôle de symbole $\\oint$ signifie que l'intégrale est calculée sur un contour fermé.\n",
    "Dans la pratique, le calcul de $x[n]$ à partir de $X(z)$ est obtenu en pratique en utilisant des\n",
    "[tables](https://en.wikipedia.org/wiki/Z-transform#Table_of_common_Z-transform_pairs),\n",
    "car les transformées en Z s'expriment sous forme d'une fraction rationnelle&nbsp;:\n",
    "\n",
    "$$\n",
    "H(s) = \\frac{ \\sum_{n=0}^N b_n z^{-n} }{ \\sum_{n=0}^M a_m z^{-m} }\n",
    "     = k \\frac{ \\prod_{n=0}^N (1-z_nz^{-1}) }{ \\prod_{n=0}^M (1-p_mz^{-1}) }\n",
    "$$\n",
    "\n",
    "La fonction de transfert est donc définie par ses coefficients $b_n$ et $a_m$, ou par ses zéros $z_n$, pôles $p_m$ et gain $k$."
   ]
  },
  {
   "cell_type": "markdown",
   "metadata": {},
   "source": [
    "## Propriétés\n",
    "\n",
    "Les propriétés de la transformée en Z sont similaires à celles des transformées de Fourier et de Laplace.\n",
    "On note $a$ et $b$ deux constantes, $x$, $x_1$ et $x_2$ des signaux\n",
    "et $X$, $X_1$ et $X_2$ leurs transformées en Z respectives.\n",
    "\n",
    "* Linéarité :\n",
    "  \n",
    "  $$\n",
    "  ax_1[n] + bx_2[n]\n",
    "  \\quad\\xrightarrow{\\quad\\mathcal{Z}\\quad}\\quad\n",
    "  a X_1(z) + b X_2(z)\n",
    "  $$\n",
    "\n",
    "* Translation :\n",
    "\n",
    "  $$\n",
    "  x[n-N]\n",
    "  \\quad\\xrightarrow{\\quad\\mathcal{Z}\\quad}\\quad\n",
    "  z^{-N} X(z)\n",
    "  $$\n",
    "\n",
    "* Convolution :\n",
    "\n",
    "  $$\n",
    "  (x_1*x_2)[n]\n",
    "  \\quad\\xrightarrow{\\quad\\mathcal{Z}\\quad}\\quad\n",
    "  X_1(z) \\times X_2(z)\n",
    "  $$"
   ]
  },
  {
   "cell_type": "markdown",
   "metadata": {},
   "source": [
    "## Région de convergence et stabilité\n",
    "\n",
    "Comme pour la transformée de Laplace, on peut définir une région de convergence avec la transformée en Z,\n",
    "et qui indique les régions où la transformée en Z converge.\n",
    "Prenons l'exemple de la réponse impulsionnelle $h[n] = a^n u[n]$.\n",
    "Sa transformée en Z est :\n",
    "\n",
    "$$\n",
    "H(z) &= \\sum_{n=-\\infty}^{+-\\infty} h[n] z^{-n} \\\\\n",
    "     &= \\sum_{n=0}^{+-\\infty} a^n z^{-n} \\\\\n",
    "     &= \\sum_{n=0}^{+-\\infty} (az^{-1})^n\n",
    "$$\n",
    "\n",
    "$H(z)$ est la somme des termes d'une suite géométrique de raison $az^{-1}$.\n",
    "Cette suite est convergente si et seulement si $|az^{-1}|<1$.\n",
    "Si cette condition est respectée, alors (rappelez-vous de la [formule de la série géométrique](https://fr.wikipedia.org/wiki/S%C3%A9rie_g%C3%A9om%C3%A9trique#Terme_g%C3%A9n%C3%A9ral)) :\n",
    "\n",
    "$$\n",
    "H(z) = \\frac{1-\\lim_{n \\to +\\infty} (az^{-1})^n}{1-az^{-1}}\n",
    "$$\n",
    "\n",
    "Si la condition $|az^{-1}|<1$ est respectée, alors la limite $\\lim_{n \\to +\\infty} (az^{-1})^n$ tend vers 0 et finalement :\n",
    "\n",
    "$$\n",
    "H(z) = \\frac{1}{1-az^{-1}}.\n",
    "$$\n",
    "\n",
    "Cette fonction de transfert n'a pas de zéro et un seul pôle $z=a$.\n",
    "\n",
    "La condition précédente est équivalente à $|z| > |a|$ et elle définit la région de convergence du système.\n",
    "On peut donc représenter le diagramme pôles–zéros ({numref}`F:z:pz`).\n",
    "\n",
    "```{glue:figure} G:z:pz\n",
    ":name: \"F:z:pz\"\n",
    "\n",
    "Diagramme pôles–zéros et région de convergence du système de réponse impulsionnelle $h[n] = a^n u[n]$\n",
    "(ici, $a=0.7$).\n",
    "```\n",
    "\n",
    "Dans l'exemple de la {numref}`F:z:pz` où $a=0,7$,\n",
    "le lieu de la transformée de Fourier discrète étant intégralement dans la région de convergence,\n",
    "on en déduit que le système est stable.\n",
    "\n",
    "De manière générale, on montre qu'un système numérique est stable\n",
    "si et seulement si tous ses pôles sont dans le cercle unité (cercle de rayon 1 centré sur l'origine),\n",
    "impliquant qu'ils sont d emodule inférieur à 1."
   ]
  },
  {
   "cell_type": "code",
   "execution_count": 1,
   "metadata": {
    "tags": [
     "remove-cell"
    ]
   },
   "outputs": [
    {
     "data": {
      "application/papermill.record/image/png": "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\n",
      "application/papermill.record/text/plain": "<Figure size 288x288 with 1 Axes>"
     },
     "metadata": {
      "scrapbook": {
       "mime_prefix": "application/papermill.record/",
       "name": "G:z:pz"
      }
     },
     "output_type": "display_data"
    },
    {
     "data": {
      "image/png": "[encoded data removed]",
      "text/plain": [
       "<Figure size 288x288 with 1 Axes>"
      ]
     },
     "metadata": {
      "needs_background": "light"
     },
     "output_type": "display_data"
    }
   ],
   "source": [
    "# Diagramme pôlez-zéros et ROC de a^n u[n]\n",
    "\n",
    "import numpy as np\n",
    "# import scipy.signal as sig\n",
    "import matplotlib\n",
    "import matplotlib.pyplot as plt\n",
    "import matplotlib.patches as pat\n",
    "from myst_nb import glue\n",
    "\n",
    "matplotlib.rcParams['text.usetex'] = True\n",
    "\n",
    "lim = 2.2\n",
    "\n",
    "a = 0.7\n",
    "z = []\n",
    "p = a\n",
    "\n",
    "fig = plt.figure(figsize=(4,4))\n",
    "ax = plt.subplot()\n",
    "plt.grid()\n",
    "\n",
    "# Axes\n",
    "plt.plot([-lim, lim], [0, 0], \"k\", linewidth=.5)\n",
    "plt.plot([0, 0], [-lim, lim], \"k\", linewidth=.5)\n",
    "\n",
    "# ROC\n",
    "# https://stackoverflow.com/questions/22789356/plot-a-donut-with-fill-or-fill-between-use-pyplot-in-matplotlib\n",
    "n = 50\n",
    "radii = [a, lim*2]\n",
    "theta = np.linspace(0, 2*np.pi, n, endpoint=True)\n",
    "xs = np.outer(radii, np.cos(theta))\n",
    "ys = np.outer(radii, np.sin(theta))\n",
    "xs[1,:] = xs[1,::-1]\n",
    "ys[1,:] = ys[1,::-1]\n",
    "ax.fill(np.ravel(xs), np.ravel(ys), color='#eeeeff')\n",
    "plt.text(1.1, -1.6, \"ROC\", color=\"#8888ff\", size=20)\n",
    "\n",
    "\n",
    "# Pôles\n",
    "plt.plot(np.real(p), np.imag(p), \"x\", color=\"tab:blue\", markersize=10)\n",
    "\n",
    "# Zéros\n",
    "plt.plot(np.real(z), np.imag(z), \"o\", color=\"tab:blue\", fillstyle=\"none\", markersize=10)\n",
    "\n",
    "# TF\n",
    "p = pat.Circle((0,0), 1, facecolor=\"None\", edgecolor=\"tab:orange\", linewidth=1)\n",
    "ax.add_patch(p)\n",
    "plt.arrow(.7, 1.4, -.15, -.15, color=\"tab:orange\", head_width=0.15)\n",
    "plt.text(.8, 1.1, \"Lieu de la\\nTFD\", color=\"tab:orange\", size=14)\n",
    "\n",
    "plt.axis([-lim, lim, -lim, lim])\n",
    "plt.xlabel(r\"$\\mathrm{Re}(z)$\", size=14)\n",
    "plt.ylabel(r\"$\\mathrm{Im}(z)$\", size=14)\n",
    "\n",
    "glue(\"G:z:pz\", fig, display=False)"
   ]
  }
 ],
 "metadata": {
  "kernelspec": {
   "display_name": "Python 3",
   "language": "python",
   "name": "python3"
  },
  "language_info": {
   "codemirror_mode": {
    "name": "ipython",
    "version": 3
   },
   "file_extension": ".py",
   "mimetype": "text/x-python",
   "name": "python",
   "nbconvert_exporter": "python",
   "pygments_lexer": "ipython3",
   "version": "3.7.3"
  }
 },
 "nbformat": 4,
 "nbformat_minor": 4
}
