{
 "cells": [
  {
   "cell_type": "markdown",
   "metadata": {},
   "source": [
    "# 💻 Séance du 07/10/2020\n",
    "\n",
    "<font color=\"red\">**donner les codes pour la FFT**</font>\n",
    "\n",
    "Comme la séance précédente, ce TD est un rappel des notions de première année.\n",
    "Mais c'est également le TP qui servira d'initiation à Python."
   ]
  },
  {
   "cell_type": "markdown",
   "metadata": {},
   "source": [
    "## Initiation à Python\n",
    "\n",
    "_python de pbase, indentation, boucles, import, matplotlib, numpy, exemple d'une sinusoïde_\n",
    "\n",
    "\n",
    "Pour représenter la sinusoïde de fréquence $f=0,3$ Hz\n",
    "\n",
    "$$\n",
    "  w(t) = \\sin(2\\pi f t),\n",
    "$$\n",
    "\n",
    "on peut utiliser le code ci-dessous :"
   ]
  },
  {
   "cell_type": "code",
   "execution_count": 2,
   "metadata": {},
   "outputs": [
    {
     "data": {
      "image/png": "[encoded data removed]",
      "text/plain": [
       "<Figure size 432x288 with 1 Axes>"
      ]
     },
     "metadata": {
      "needs_background": "light"
     },
     "output_type": "display_data"
    }
   ],
   "source": [
    "# Importation de modules nécessaires\n",
    "# Pour les modules dont le nom est un peu long, on peut leur donner un nom plus cours avec `as`\n",
    "import math\n",
    "import numpy as np\n",
    "import matplotlib.pyplot as plt\n",
    "\n",
    "# Vecteur des abscisses : un point tous les 0,1 s entre 0 et 10 s\n",
    "t = np.arange(0, 10, 0.1)\n",
    "\n",
    "# Fréquence de la sinusoïde\n",
    "f = 0.3\n",
    "\n",
    "# Sinusoïde : c'est tout simple, il suffit d'écrire l'expression mathématique 😎\n",
    "w = np.sin(2*math.pi*f*t)\n",
    "\n",
    "# Affichage du signal\n",
    "plt.plot(t,w)\n",
    "\n",
    "# Des légendes, c'est toujours bien !\n",
    "plt.xlabel(\"t\")\n",
    "plt.ylabel(\"w(t)\")\n",
    "plt.title(\"Une belle sinusoïde\")\n",
    "\n",
    "# Affichage (pas toujours nécessaire, mais parfois c'est indispensable)\n",
    "plt.show()"
   ]
  },
  {
   "cell_type": "markdown",
   "metadata": {},
   "source": [
    "## Représentation d'un signal\n",
    "\n",
    "Représentez entre 0 et 10 s la sinusoïde amortie\n",
    "\n",
    "$$\n",
    "  x(t) =\n",
    "  \\begin{cases}\n",
    "    0                                   \\text{ si } t<0 \\\\\n",
    "    A e^{-at} \\sin(2 \\pi f t + \\varphi) \\text{ si } t\\geq 0 \\\\\n",
    "  \\end{cases}\n",
    "$$\n",
    "\n",
    "où $A=2$, $a=0,5$, $\\varphi=1$ et $f = 2$ Hz.\n",
    "Choisissez un pas de temps correct pour obtenir une jolie courbe."
   ]
  },
  {
   "cell_type": "markdown",
   "metadata": {},
   "source": [
    "## Produit de convolution\n",
    "\n",
    "Représentez le produit de convolution $(x*y)[n]$ où :\n",
    "\n",
    "$$\n",
    "  x[n] =\n",
    "  \\begin{cases}\n",
    "    +1 \\text{ pour } n=1, \\\\\n",
    "    -1 \\text{ pour } n=-1, \\\\\n",
    "    0  \\text{ ailleurs},\n",
    "  \\end{cases}\n",
    "  \\qquad\\qquad\n",
    "  y[n] =\n",
    "  \\begin{cases}\n",
    "    2 &\\text{ pour } |n| \\leq 1, \\\\\n",
    "    0 &\\text{ ailleurs}.\n",
    "  \\end{cases}\n",
    "$$\n",
    "\n",
    "Pour définir $x[n]$, remarquez que le signal correspond à la somme de deux impulsions discrètes."
   ]
  },
  {
   "cell_type": "markdown",
   "metadata": {},
   "source": [
    "## Transformée de Fourier discrète\n",
    "\n",
    "On considère le signal créneau suivant de période $N=100$ :\n",
    "\n",
    "$$\n",
    "  x[n] =\n",
    "  \\begin{cases}\n",
    "    1 \\quad\\text{ si } 0 \\leq n < 50, \\\\\n",
    "    0 \\quad\\text{ si } 50 \\leq n < 100.\n",
    "  \\end{cases}\n",
    "$$\n",
    "\n",
    "* Créez et affichez le signal $x[n]$ sur 100~échantillons.\n",
    "\n",
    "* Tracez la transformée de Fourier discrète (TFD) $X[k]$ de $x[n]$ entre $0$ et $N-1$.\n",
    "\n",
    "* Centrez la TFD pour la représenter entre $-N/2$ et $N/2-1$.\n",
    "\n",
    "* Modifiez le vecteur des abscisses pour représenter la TFD en fonction des fréquences (et non des échantillons).\n",
    "  On suppose que $T_e=0,5$ s."
   ]
  },
  {
   "cell_type": "markdown",
   "metadata": {},
   "source": [
    "## Analyse spectrale d'un signal audio\n",
    "\n",
    "* Chargez le signal son.wav.\n",
    "  C'est un signal sonore enregistré en stéréo : comment le convertir en mono ?\n",
    "  Affichez-le.\n",
    "  \n",
    "* Affichez la TFD du signal pour déterminer les harmoniques principales.\n",
    "\n",
    "* Quel est l'accord joué ? Vous pouvez également l'écouter si vous avez l'oreille musicale..."
   ]
  }
 ],
 "metadata": {
  "kernelspec": {
   "display_name": "Python 3",
   "language": "python",
   "name": "python3"
  },
  "language_info": {
   "codemirror_mode": {
    "name": "ipython",
    "version": 3
   },
   "file_extension": ".py",
   "mimetype": "text/x-python",
   "name": "python",
   "nbconvert_exporter": "python",
   "pygments_lexer": "ipython3",
   "version": "3.7.3"
  }
 },
 "nbformat": 4,
 "nbformat_minor": 4
}
