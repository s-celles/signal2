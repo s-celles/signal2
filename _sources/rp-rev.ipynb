{
 "cells": [
  {
   "cell_type": "markdown",
   "metadata": {},
   "source": [
    "(C:tp-rev)=\n",
    "# Travaux pratiques\n",
    "\n",
    "Comme la séance précédente, ce TP est un rappel des notions de première année.\n",
    "Il sert également d'initiation à Python.\n",
    "Avant de commencer, je vous recommande de relire la section {ref}`C:python:python`."
   ]
  },
  {
   "cell_type": "markdown",
   "metadata": {},
   "source": [
    "## Représentation d'un signal\n",
    "\n",
    "Représentez entre 0 et 10 s la sinusoïde amortie\n",
    "\n",
    "$$\n",
    "  x(t) =\n",
    "  \\begin{cases}\n",
    "    0                                   \\text{ si } t<0 \\\\\n",
    "    A e^{-at} \\sin(2 \\pi f t + \\varphi) \\text{ si } t\\geq 0 \\\\\n",
    "  \\end{cases}\n",
    "$$\n",
    "\n",
    "où $A=2$, $a=0,5$, $\\varphi=1$ et $f = 2$ Hz.\n",
    "Choisissez un pas de temps correct pour obtenir une jolie courbe."
   ]
  },
  {
   "cell_type": "markdown",
   "metadata": {},
   "source": [
    "## Produit de convolution\n",
    "\n",
    "Représentez le produit de convolution $(x*y)[n]$ où :\n",
    "\n",
    "$$\n",
    "  x[n] =\n",
    "  \\begin{cases}\n",
    "    +1 \\text{ pour } n=1, \\\\\n",
    "    -1 \\text{ pour } n=-1, \\\\\n",
    "    0  \\text{ ailleurs},\n",
    "  \\end{cases}\n",
    "  \\qquad\\qquad\n",
    "  y[n] =\n",
    "  \\begin{cases}\n",
    "    2 &\\text{ pour } |n| \\leq 1, \\\\\n",
    "    0 &\\text{ ailleurs}.\n",
    "  \\end{cases}\n",
    "$$\n",
    "\n",
    "Pour définir $x[n]$, remarquez que le signal correspond à la somme de deux impulsions discrètes.\n",
    "Et pour définir une impulsion discrète, vous pouvez utiliser la fonction `numpy.where`\n",
    "(voir sa [syntaxe](https://numpy.org/doc/stable/reference/generated/numpy.where.html)).\n",
    "Par exemple, l'impulsion\n",
    "\n",
    "$$\n",
    "  z[n] =\n",
    "  \\begin{cases}\n",
    "    A &\\text{ pour } n = m, \\\\\n",
    "    0 &\\text{ ailleurs}.\n",
    "  \\end{cases}\n",
    "$$\n",
    "\n",
    "peut être définie par :\n",
    "\n",
    "```\n",
    "z = np.where( n=m, A, 0)\n",
    "```"
   ]
  },
  {
   "cell_type": "markdown",
   "metadata": {},
   "source": [
    "## Transformée de Fourier discrète\n",
    "\n",
    "On considère le signal créneau suivant de période $N=100$ :\n",
    "\n",
    "$$\n",
    "  x[n] =\n",
    "  \\begin{cases}\n",
    "    1 \\quad\\text{ si } 0 \\leq n < 50, \\\\\n",
    "    0 \\quad\\text{ si } 50 \\leq n < 100.\n",
    "  \\end{cases}\n",
    "$$\n",
    "\n",
    "* Créez et affichez le signal $x[n]$ sur 100 échantillons.\n",
    "\n",
    "* Tracez la transformée de Fourier discrète (TFD) $X[k]$ de $x[n]$ entre $0$ et $N-1$ (`scipy.fft.fft`).\n",
    "\n",
    "* Centrez la TFD pour la représenter entre $-N/2$ et $N/2-1$ (`scipy.fft.fftshift`).\n",
    "\n",
    "* Modifiez les abscisses pour représenter la TFD en fonction des fréquences (et non des échantillons).\n",
    "  On suppose que $T_e=0,5$ s."
   ]
  },
  {
   "cell_type": "markdown",
   "metadata": {},
   "source": [
    "## Analyse spectrale d'un signal audio\n",
    "\n",
    "* Chargez le signal [chord.wav](https://vincmazet.github.io/signal2/_static/files/chord.wav) (`scipy.io.wavfile.read`).\n",
    "  C'est un signal sonore enregistré en stéréo : comment le convertir en mono ?\n",
    "  Affichez-le.\n",
    "  \n",
    "* Affichez la TFD du signal pour déterminer les harmoniques principales.\n",
    "\n",
    "* Quel est l'accord joué ? Vous pouvez également l'écouter si vous avez l'oreille musicale (`IPython.display.Audio`)..."
   ]
  }
 ],
 "metadata": {
  "kernelspec": {
   "display_name": "Python 3",
   "language": "python",
   "name": "python3"
  },
  "language_info": {
   "codemirror_mode": {
    "name": "ipython",
    "version": 3
   },
   "file_extension": ".py",
   "mimetype": "text/x-python",
   "name": "python",
   "nbconvert_exporter": "python",
   "pygments_lexer": "ipython3",
   "version": "3.7.3"
  }
 },
 "nbformat": 4,
 "nbformat_minor": 4
}
