{
 "cells": [
  {
   "cell_type": "markdown",
   "metadata": {},
   "source": [
    "(C:filtres-numeriques)=\n",
    "# Filtres numériques"
   ]
  },
  {
   "cell_type": "markdown",
   "metadata": {},
   "source": [
    "Les filtres numériques sont très courants et utilisés dans de nombreux domaines :\n",
    "télécommunications, traitement de la parole, Hi-Fi, radar et sonar, asservissement, vidéo, photos, modem, etc.\n",
    "\n",
    "S'ils sont à ce point répandus, c'est en raison de leurs nombreux avantages par rapport aux filtres analogiques :\n",
    "* deux filtres numériques de même configuration sont parfaitement identiques,\n",
    "* un filtre numérique est facilement reprogrammable,\n",
    "* l'association de filtres numériques ne pose pas de problème d'impédance,\n",
    "* il n'y a pas de variation des caractéristiques en fonction de l'âge ou de la température des composants,\n",
    "* on dispose d'une grande précision de calcul.\n",
    "\n",
    "En revanche, les filtres numériques sont bien entendu limités par leur fréquence d'échantillonnage\n",
    "et naturellement inadaptés au traitement du signal analogique.\n",
    "\n",
    "La réponse impulsionnelle d'un filtre numérique est échantillonnée à une fréquence d'échantillonnage $f_e$.\n",
    "\n",
    "Dans ce cours, on traitera uniquement des filtres causaux :\n",
    "\n",
    "$$\n",
    "h[n] = 0\\;\\text{si}\\; n<0.\n",
    "$$\n",
    "\n",
    "Par ailleurs, lorsque la réponse impulsionnelle est à durée limitée, c'est à dire $h[n]=0$ si $n > N$,\n",
    "alors le filtre est à {ref}`réponse impulsionnelle finie (RIF)<C:filtres-rif>`.\n",
    "Dans le cas contraire, on parle de filtre à {ref}`réponse impulsionnelle infinie (RII)<C:filtres-rii>`.\n",
    "Ces deux types de filtres sont présentés ci-après, ainsi que deux méthodes de conception :\n",
    "* la méthode des fenêtres pour les filtres RIF,\n",
    "* la transformation bilinéaire pour les filtres RII."
   ]
  }
 ],
 "metadata": {
  "kernelspec": {
   "display_name": "Python 3 (ipykernel)",
   "language": "python",
   "name": "python3"
  },
  "language_info": {
   "codemirror_mode": {
    "name": "ipython",
    "version": 3
   },
   "file_extension": ".py",
   "mimetype": "text/x-python",
   "name": "python",
   "nbconvert_exporter": "python",
   "pygments_lexer": "ipython3",
   "version": "3.9.7"
  }
 },
 "nbformat": 4,
 "nbformat_minor": 4
}
