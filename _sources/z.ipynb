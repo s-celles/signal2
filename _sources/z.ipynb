{
 "cells": [
  {
   "cell_type": "markdown",
   "metadata": {},
   "source": [
    "# Transformée en Z\n",
    "\n",
    "La transformée en Z est l'équivalent discret de la transformée de Laplace.\n",
    "Contrairement à Fourier et Laplace,\n",
    "Z n'est pas un scientifique mais seulement le nom que l'on a donné à la variable de cette transformée."
   ]
  },
  {
   "cell_type": "markdown",
   "metadata": {},
   "source": [
    "## Définition\n",
    "\n",
    "La transformée en Z d'un signal à temps discret $x[n]$ est :\n",
    "\n",
    "$$\n",
    "X(z) = \\sum_{n=-\\infty}^{+\\infty} x[n] z^{-n}\n",
    "$$\n",
    "\n",
    "où $z = \\rho e^{j\\theta}$ est la variable (complexe).\n",
    "C'est une variable continue, même si $s$ est échantillonné.\n",
    "Cette formule ressemble à la transformée de Fourier discrète, mais l'exponentielle est ici remplacée par la variable $z$.\n",
    "\n",
    "On notera dans la suite : $X(z) = \\mathcal{Z}[x[n]]$.\n",
    "\n",
    "$H(z)$ est la fonction de transfert du filtre numérique de réponse impulsionnelle $h[n]$,\n",
    "et exprime le quotient des transformées en Z de la sortie sur l'entrée :\n",
    "\n",
    "$$\n",
    "H(z) = \\frac{Y(z)}{X(z)}.\n",
    "$$"
   ]
  },
  {
   "cell_type": "markdown",
   "metadata": {},
   "source": [
    "## Représentation\n",
    "\n",
    "De même que pour la transformée de Laplace, la transformée en Z est une fonction complexe d'une variable complexe\n",
    "et il serait difficile et inutile de la représenter.\n",
    "\n",
    "On utilise alors le diagramme pôles–zéros qui se construit de la même manière\n",
    "que pour la {ref}`transformée de Laplace <S:laplace:pz>`.\n",
    "\n",
    "Lorque $\\rho=1$, alors $z=e^{j\\theta}$.\n",
    "En réécrivant $\\theta = 2\\pi f$, on retrouve alors l'expression de la transformée de Fourier discrète.\n",
    "En d'autres termes, la transformée de Fourier discrète est égale à la transformée en Z lorsque $z$ est de module 1.\n",
    "Cela correspond à un cercle de rayon 1 centré sur l'origine."
   ]
  },
  {
   "cell_type": "markdown",
   "metadata": {},
   "source": [
    "## Transformée inverse\n",
    "\n",
    "La transformée en Z inverse de $X(z)$ est :\n",
    "\n",
    "$$\n",
    "x[n] = \\frac{1}{2\\pi j} \\oint X(z) z^{n-1} dz.\n",
    "$$\n",
    "\n",
    "Le drôle de symbole $\\oint$ signifie que l'intégrale est calculée sur un contour fermé.\n",
    "Dans la pratique, le calcul de $x[n]$ à partir de $X(z)$ est obtenu en pratique en utilisant des\n",
    "[tables](https://en.wikipedia.org/wiki/Z-transform#Table_of_common_Z-transform_pairs),\n",
    "car les transformées en Z s'expriment sous forme d'une fraction rationnelle&nbsp;:\n",
    "\n",
    "$$\n",
    "H(z) = \\frac{ \\sum_{m=0}^{M} b_m z^{-m} }{ \\sum_{n=0}^{N} a_n z^{-n} }\n",
    "     = k \\frac{ \\prod_{m=0}^{M} (1-z_mz^{-1}) }{ \\prod_{n=0}^{N} (1-p_nz^{-1}) }\n",
    "$$\n",
    "\n",
    "La fonction de transfert est donc définie par ses coefficients $b_m$ et $a_n$, ou par ses zéros $z_m$, pôles $p_n$ et gain $k$."
   ]
  },
  {
   "cell_type": "markdown",
   "metadata": {},
   "source": [
    "## Propriétés\n",
    "\n",
    "Les propriétés de la transformée en Z sont similaires à celles des transformées de Fourier et de Laplace.\n",
    "On note $a$ et $b$ deux constantes, $x$, $x_1$ et $x_2$ des signaux\n",
    "et $X$, $X_1$ et $X_2$ leurs transformées en Z respectives.\n",
    "\n",
    "* Linéarité :\n",
    "  \n",
    "  $$\n",
    "  ax_1[n] + bx_2[n]\n",
    "  \\quad\\xrightarrow{\\quad\\mathcal{Z}\\quad}\\quad\n",
    "  a X_1(z) + b X_2(z)\n",
    "  $$\n",
    "\n",
    "* Translation :\n",
    "\n",
    "  $$\n",
    "  x[n-N]\n",
    "  \\quad\\xrightarrow{\\quad\\mathcal{Z}\\quad}\\quad\n",
    "  z^{-N} X(z)\n",
    "  $$\n",
    "\n",
    "* Convolution :\n",
    "\n",
    "  $$\n",
    "  (x_1*x_2)[n]\n",
    "  \\quad\\xrightarrow{\\quad\\mathcal{Z}\\quad}\\quad\n",
    "  X_1(z) \\times X_2(z)\n",
    "  $$"
   ]
  },
  {
   "cell_type": "markdown",
   "metadata": {},
   "source": [
    "## Région de convergence et stabilité\n",
    "\n",
    "Comme pour la transformée de Laplace, on peut définir une région de convergence avec la transformée en Z,\n",
    "et qui indique les régions où la transformée en Z converge.\n",
    "Prenons l'exemple de la réponse impulsionnelle $h[n] = a^n u[n]$.\n",
    "Sa transformée en Z est :\n",
    "\n",
    "$$\n",
    "H(z) &= \\sum_{n=-\\infty}^{+\\infty} h[n] z^{-n} \\\\\n",
    "     &= \\sum_{n=0}^{+\\infty} a^n z^{-n} \\\\\n",
    "     &= \\sum_{n=0}^{+\\infty} (az^{-1})^n\n",
    "$$\n",
    "\n",
    "$H(z)$ est la somme des termes d'une suite géométrique de raison $az^{-1}$.\n",
    "Cette suite est convergente si et seulement si $|az^{-1}|<1$.\n",
    "Si cette condition est respectée, alors (rappelez-vous de la [formule de la série géométrique](https://fr.wikipedia.org/wiki/S%C3%A9rie_g%C3%A9om%C3%A9trique#Terme_g%C3%A9n%C3%A9ral)) :\n",
    "\n",
    "$$\n",
    "H(z) = \\frac{1-\\lim_{n \\to +\\infty} (az^{-1})^n}{1-az^{-1}}\n",
    "$$\n",
    "\n",
    "Si la condition $|az^{-1}|<1$ est respectée, alors la limite $\\lim_{n \\to +\\infty} (az^{-1})^n$ tend vers 0 et finalement :\n",
    "\n",
    "$$\n",
    "H(z) = \\frac{1}{1-az^{-1}}.\n",
    "$$\n",
    "\n",
    "Cette fonction de transfert n'a pas de zéro et un seul pôle $z=a$.\n",
    "\n",
    "La condition précédente est équivalente à $|z| > |a|$ et elle définit la région de convergence du système.\n",
    "On peut donc représenter le diagramme pôles–zéros ({numref}`F:z:pz`).\n",
    "\n",
    "```{glue:figure} G:z:pz\n",
    ":name: \"F:z:pz\"\n",
    "\n",
    "Diagramme pôles–zéros et région de convergence du système de réponse impulsionnelle $h[n] = a^n u[n]$\n",
    "(ici, $a=0.7$).\n",
    "```\n",
    "\n",
    "Dans l'exemple de la {numref}`F:z:pz` où $a=0,7$,\n",
    "le lieu de la transformée de Fourier discrète étant intégralement dans la région de convergence,\n",
    "on en déduit que le système est stable.\n",
    "\n",
    "De manière générale, on montre qu'un système numérique est stable\n",
    "si et seulement si tous ses pôles sont dans le cercle unité (cercle de rayon 1 centré sur l'origine),\n",
    "impliquant qu'ils sont de module inférieur à 1."
   ]
  },
  {
   "cell_type": "code",
   "execution_count": 28,
   "metadata": {
    "tags": [
     "remove-cell"
    ]
   },
   "outputs": [
    {
     "data": {
      "application/papermill.record/image/png": "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\n",
      "application/papermill.record/text/plain": "<Figure size 288x288 with 1 Axes>"
     },
     "metadata": {
      "scrapbook": {
       "mime_prefix": "application/papermill.record/",
       "name": "G:z:pz"
      }
     },
     "output_type": "display_data"
    },
    {
     "data": {
      "image/png": "[encoded data removed]",
      "text/plain": [
       "<Figure size 288x288 with 1 Axes>"
      ]
     },
     "metadata": {
      "needs_background": "light"
     },
     "output_type": "display_data"
    }
   ],
   "source": [
    "# Diagramme pôlez-zéros et ROC de a^n u[n]\n",
    "\n",
    "import numpy as np\n",
    "# import scipy.signal as sig\n",
    "import matplotlib\n",
    "import matplotlib.pyplot as plt\n",
    "import matplotlib.patches as pat\n",
    "from myst_nb import glue\n",
    "\n",
    "matplotlib.rcParams['text.usetex'] = True\n",
    "\n",
    "lim = 2.2\n",
    "\n",
    "a = 0.7\n",
    "z = []\n",
    "p = a\n",
    "\n",
    "fig = plt.figure(figsize=(4,4))\n",
    "ax = plt.subplot()\n",
    "plt.grid()\n",
    "\n",
    "# Axes\n",
    "plt.plot([-lim, lim], [0, 0], \"k\", linewidth=.5)\n",
    "plt.plot([0, 0], [-lim, lim], \"k\", linewidth=.5)\n",
    "\n",
    "# ROC\n",
    "# https://stackoverflow.com/questions/22789356/plot-a-donut-with-fill-or-fill-between-use-pyplot-in-matplotlib\n",
    "n = 50\n",
    "radii = [a, lim*2]\n",
    "theta = np.linspace(0, 2*np.pi, n, endpoint=True)\n",
    "xs = np.outer(radii, np.cos(theta))\n",
    "ys = np.outer(radii, np.sin(theta))\n",
    "xs[1,:] = xs[1,::-1]\n",
    "ys[1,:] = ys[1,::-1]\n",
    "ax.fill(np.ravel(xs), np.ravel(ys), color='#eeeeff')\n",
    "plt.text(1.1, -1.6, \"ROC\", color=\"#8888ff\", size=20)\n",
    "\n",
    "\n",
    "# Pôles\n",
    "plt.plot(np.real(p), np.imag(p), \"x\", color=\"tab:blue\")\n",
    "\n",
    "# Zéros\n",
    "plt.plot(np.real(z), np.imag(z), \"o\", color=\"tab:blue\")\n",
    "\n",
    "# TF\n",
    "p = pat.Circle((0,0), 1, facecolor=\"None\", edgecolor=\"tab:orange\", linewidth=1)\n",
    "ax.add_patch(p)\n",
    "plt.arrow(.7, 1.4, -.15, -.15, color=\"tab:orange\", head_width=0.15)\n",
    "plt.text(.8, 1.1, \"Lieu de la\\nTFD\", color=\"tab:orange\", size=14)\n",
    "\n",
    "plt.axis([-lim, lim, -lim, lim])\n",
    "plt.xlabel(r\"$\\mathrm{Re}(z)$\", size=14)\n",
    "plt.ylabel(r\"$\\mathrm{Im}(z)$\", size=14)\n",
    "\n",
    "glue(\"G:z:pz\", fig, display=False)"
   ]
  }
 ],
 "metadata": {
  "kernelspec": {
   "display_name": "Python 3",
   "language": "python",
   "name": "python3"
  },
  "language_info": {
   "codemirror_mode": {
    "name": "ipython",
    "version": 3
   },
   "file_extension": ".py",
   "mimetype": "text/x-python",
   "name": "python",
   "nbconvert_exporter": "python",
   "pygments_lexer": "ipython3",
   "version": "3.7.2"
  }
 },
 "nbformat": 4,
 "nbformat_minor": 4
}
