{
 "cells": [
  {
   "cell_type": "markdown",
   "metadata": {},
   "source": [
    "# Exercices sur machine\n",
    "\n",
    "Comme la séance précédente, ce TP est un rappel des notions de première année.\n",
    "\n",
    "Ouvrez JupyterLab en tapant dans un terminal :\n",
    "```\n",
    "jupyter lab\n",
    "```\n",
    "puis créez un nouveau notebook dans lequel vous pourrez donner un titre (en définissant la cellule courante en markdown, et y tapant par exemple `# TP 1`).\n",
    "Tapez `Shift + Entrée` pour exécuter la cellule courante et en créer une nouvelle."
   ]
  },
  {
   "cell_type": "markdown",
   "metadata": {},
   "source": [
    "## Représentation d'un signal\n",
    "\n",
    "Représentez entre 0 et 10 s la sinusoïde amortie\n",
    "\n",
    "$$\n",
    "  x(t) = A e^{-at} \\sin(2 \\pi f t + \\varphi).\n",
    "$$\n",
    "\n",
    "où $A=2$, $a=0,5$, $\\varphi=1$ et $f = 2$ Hz.\n",
    "Vous pouvez vous inspirer de l'exemple donné en section [](C:python:python).\n",
    "Choisissez un pas de temps correct pour obtenir une jolie courbe."
   ]
  },
  {
   "cell_type": "markdown",
   "metadata": {},
   "source": [
    "## Transformée de Fourier discrète\n",
    "\n",
    "On considère le signal créneau suivant de période $N=100$ :\n",
    "\n",
    "$$\n",
    "  x[n] =\n",
    "  \\begin{cases}\n",
    "    1 \\quad\\text{ si } 0 \\leq n < 10, \\\\\n",
    "    0 \\quad\\text{ si } 10 \\leq n < 100.\n",
    "  \\end{cases}\n",
    "$$\n",
    "\n",
    "* Créez et affichez le signal $x[n]$ sur 100 échantillons.\n",
    "  Une porte discrète peut être générée avec la fonction `numpy.where`\n",
    "  (voir sa [syntaxe](https://numpy.org/doc/stable/reference/generated/numpy.where.html)).\n",
    "\n",
    "* Tracez la transformée de Fourier discrète (TFD) $X[k]$ de $x[n]$ entre $0$ et $N-1$ (`scipy.fft.fft`).\n",
    "\n",
    "* Centrez la TFD pour la représenter entre $-N/2$ et $N/2-1$ (`scipy.fft.fftshift`).\n",
    "\n",
    "* Modifiez les abscisses pour représenter la TFD en fonction des fréquences (et non des échantillons).\n",
    "  On suppose que $T_e=2,5$ ms."
   ]
  },
  {
   "cell_type": "markdown",
   "metadata": {},
   "source": [
    "## Analyse spectrale\n",
    "\n",
    "<!-- https://opendata.reseaux-energies.fr/explore/dataset/consommation-quotidienne-brute/table/?sort=-date_heure -->\n",
    "\n",
    "Le signal [consommation.csv](https://vincmazet.github.io/signal2/_static/consommation.csv)\n",
    "contient la consommation horaire en gaz (deuxième colonne, en MW) et en électricité (troisième colonne, en MW) en France métropolitaine (hors Corse) de 2012 à 2021.\n",
    "\n",
    "* Chargez (`numpy.loadtxt`) et affichez la consommation électrique en fonction des indices des échantillons (inutile de graduer en fonction du temps).\n",
    "  \n",
    "* Affichez la TFD du signal.\n",
    "\n",
    "* Déterminez les valeurs des principales fréquences.\n",
    "\n",
    "* Identifiez quel phénomène correspond aux principales fréquences."
   ]
  },
  {
   "cell_type": "markdown",
   "metadata": {},
   "source": [
    "## Produit de convolution\n",
    "\n",
    "Représentez le produit de convolution $(x*y)[n]$ où :\n",
    "\n",
    "$$\n",
    "  x[n] =\n",
    "  \\begin{cases}\n",
    "    +1 &\\text{ pour } n=1, \\\\\n",
    "    -1 &\\text{ pour } n=-1, \\\\\n",
    "    0  &\\text{ ailleurs},\n",
    "  \\end{cases}\n",
    "  \\qquad\\qquad\n",
    "  y[n] =\n",
    "  \\begin{cases}\n",
    "    2 &\\text{ pour } |n| \\leq 1, \\\\\n",
    "    0 &\\text{ ailleurs}.\n",
    "  \\end{cases}\n",
    "$$\n",
    "\n",
    "Pour définir $x[n]$, remarquez que le signal correspond à la somme de deux impulsions discrètes, et qu'une impulsion discrète n'est rien d'autre qu'une porte très étroite..."
   ]
  },
  {
   "cell_type": "markdown",
   "metadata": {
    "tags": [
     "remove-cell"
    ]
   },
   "source": [
    "\n",
    "Une impulsion discrète peut être générée avec la fonction `numpy.where`\n",
    "(voir sa [syntaxe](https://numpy.org/doc/stable/reference/generated/numpy.where.html)).\n",
    "Par exemple, l'impulsion\n",
    "\n",
    "$$\n",
    "  z[n] =\n",
    "  \\begin{cases}\n",
    "    A &\\text{ pour } n = m, \\\\\n",
    "    0 &\\text{ ailleurs}.\n",
    "  \\end{cases}\n",
    "$$\n",
    "\n",
    "peut être définie par :\n",
    "\n",
    "```\n",
    "z = np.where(n==m, A, 0)\n",
    "```"
   ]
  }
 ],
 "metadata": {
  "kernelspec": {
   "display_name": "Python 3 (ipykernel)",
   "language": "python",
   "name": "python3"
  },
  "language_info": {
   "codemirror_mode": {
    "name": "ipython",
    "version": 3
   },
   "file_extension": ".py",
   "mimetype": "text/x-python",
   "name": "python",
   "nbconvert_exporter": "python",
   "pygments_lexer": "ipython3",
   "version": "3.9.7"
  }
 },
 "nbformat": 4,
 "nbformat_minor": 4
}
