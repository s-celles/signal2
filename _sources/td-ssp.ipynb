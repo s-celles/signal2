{
 "cells": [
  {
   "cell_type": "markdown",
   "metadata": {},
   "source": [
    "(C:td-ssp)=\n",
    "# TD Traitement statistique du signal\n",
    "\n",
    "<!-- [Énoncé 2019-2020](https://vincmazet.github.io/signal2/_static/files/ssp-td.pdf) -->"
   ]
  }
 ],
 "metadata": {
  "kernelspec": {
   "display_name": "Python 3",
   "language": "python",
   "name": "python3"
  },
  "language_info": {
   "codemirror_mode": {
    "name": "ipython",
    "version": 3
   },
   "file_extension": ".py",
   "mimetype": "text/x-python",
   "name": "python",
   "nbconvert_exporter": "python",
   "pygments_lexer": "ipython3",
   "version": "3.7.3"
  }
 },
 "nbformat": 4,
 "nbformat_minor": 4
}
